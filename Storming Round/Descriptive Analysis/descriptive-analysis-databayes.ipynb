{
 "cells": [
  {
   "cell_type": "code",
   "execution_count": 1,
   "id": "d21aacca",
   "metadata": {
    "_kg_hide-input": false,
    "execution": {
     "iopub.execute_input": "2023-04-29T16:29:21.393604Z",
     "iopub.status.busy": "2023-04-29T16:29:21.392525Z",
     "iopub.status.idle": "2023-04-29T16:29:23.494035Z",
     "shell.execute_reply": "2023-04-29T16:29:23.492756Z",
     "shell.execute_reply.started": "2023-04-29T16:29:21.393562Z"
    },
    "papermill": {
     "duration": 2.039101,
     "end_time": "2023-04-27T09:25:11.744924",
     "exception": false,
     "start_time": "2023-04-27T09:25:09.705823",
     "status": "completed"
    },
    "tags": []
   },
   "outputs": [],
   "source": [
    "# data handling\n",
    "import numpy as np\n",
    "import pandas as pd\n",
    "\n",
    "# data visualizations\n",
    "import seaborn as sns\n",
    "import matplotlib.pyplot as plt\n",
    "\n",
    "# feature scaling\n",
    "from sklearn.preprocessing import StandardScaler, MinMaxScaler\n",
    "\n",
    "# feature selection\n",
    "from sklearn.feature_selection import RFE\n",
    "\n",
    "# machine learning algorithms\n",
    "from sklearn.linear_model import LinearRegression, LogisticRegression\n",
    "from sklearn.tree import DecisionTreeClassifier\n",
    "from sklearn.ensemble import RandomForestRegressor\n",
    "from sklearn.neighbors import KNeighborsClassifier\n",
    "from sklearn import naive_bayes \n",
    "from sklearn.linear_model import LogisticRegression\n",
    "from sklearn import svm\n",
    "from sklearn.neural_network import MLPClassifier\n",
    "import xgboost as xgb\n",
    "\n",
    "# dimensionality reduction with PCA\n",
    "from sklearn.decomposition import PCA\n",
    "\n",
    "# accuracy metrics\n",
    "from sklearn.metrics import confusion_matrix\n",
    "from sklearn.metrics import f1_score"
   ]
  },
  {
   "cell_type": "code",
   "execution_count": 2,
   "id": "45016140",
   "metadata": {
    "_cell_guid": "b1076dfc-b9ad-4769-8c92-a6c4dae69d19",
    "_kg_hide-input": false,
    "_uuid": "8f2839f25d086af736a60e9eeb907d3b93b6e0e5",
    "execution": {
     "iopub.execute_input": "2023-04-29T16:29:23.497351Z",
     "iopub.status.busy": "2023-04-29T16:29:23.496858Z",
     "iopub.status.idle": "2023-04-29T16:29:23.513756Z",
     "shell.execute_reply": "2023-04-29T16:29:23.512324Z",
     "shell.execute_reply.started": "2023-04-29T16:29:23.497298Z"
    },
    "papermill": {
     "duration": 0.03713,
     "end_time": "2023-04-27T09:25:11.803984",
     "exception": false,
     "start_time": "2023-04-27T09:25:11.766854",
     "status": "completed"
    },
    "tags": []
   },
   "outputs": [
    {
     "name": "stdout",
     "output_type": "stream",
     "text": [
      "/kaggle/input/data-storm-4/Data-dictionary.xlsx\n",
      "/kaggle/input/data-storm-4/DataStorm4.0_KaggleProblemStatement.pdf\n",
      "/kaggle/input/data-storm-4/Store-info.csv\n",
      "/kaggle/input/data-storm-4/Testing-data.csv\n",
      "/kaggle/input/data-storm-4/Historical-transaction-data.csv\n"
     ]
    }
   ],
   "source": [
    "# This Python 3 environment comes with many helpful analytics libraries installed\n",
    "# It is defined by the kaggle/python Docker image: https://github.com/kaggle/docker-python\n",
    "# For example, here's several helpful packages to load\n",
    "\n",
    "import numpy as np # linear algebra\n",
    "import pandas as pd # data processing, CSV file I/O (e.g. pd.read_csv)\n",
    "\n",
    "# Input data files are available in the read-only \"../input/\" directory\n",
    "# For example, running this (by clicking run or pressing Shift+Enter) will list all files under the input directory\n",
    "\n",
    "import os\n",
    "for dirname, _, filenames in os.walk('/kaggle/input'):\n",
    "    for filename in filenames:\n",
    "        print(os.path.join(dirname, filename))\n",
    "\n",
    "# You can write up to 20GB to the current directory (/kaggle/working/) that gets preserved as output when you create a version using \"Save & Run All\" \n",
    "# You can also write temporary files to /kaggle/temp/, but they won't be saved outside of the current session"
   ]
  },
  {
   "cell_type": "code",
   "execution_count": 3,
   "id": "48a49472",
   "metadata": {
    "_kg_hide-input": true,
    "execution": {
     "iopub.execute_input": "2023-04-29T16:29:23.516426Z",
     "iopub.status.busy": "2023-04-29T16:29:23.515623Z",
     "iopub.status.idle": "2023-04-29T16:29:24.743062Z",
     "shell.execute_reply": "2023-04-29T16:29:24.741283Z",
     "shell.execute_reply.started": "2023-04-29T16:29:23.516376Z"
    },
    "papermill": {
     "duration": 1.101043,
     "end_time": "2023-04-27T09:25:12.926578",
     "exception": false,
     "start_time": "2023-04-27T09:25:11.825535",
     "status": "completed"
    },
    "tags": []
   },
   "outputs": [],
   "source": [
    "store_db = pd.read_csv('/kaggle/input/data-storm-4/Store-info.csv')\n",
    "transaction_db = pd.read_csv('/kaggle/input/data-storm-4/Historical-transaction-data.csv')\n",
    "test_db = pd.read_csv('/kaggle/input/data-storm-4/Testing-data.csv')"
   ]
  },
  {
   "cell_type": "markdown",
   "id": "ac8d508c",
   "metadata": {
    "_kg_hide-input": false,
    "papermill": {
     "duration": 0.021019,
     "end_time": "2023-04-27T09:25:12.968689",
     "exception": false,
     "start_time": "2023-04-27T09:25:12.947670",
     "status": "completed"
    },
    "tags": []
   },
   "source": [
    "## Creating the Master Table of Data based on Transactions and the corresponding Store "
   ]
  },
  {
   "cell_type": "code",
   "execution_count": 4,
   "id": "5b7d528b",
   "metadata": {
    "_kg_hide-input": false,
    "execution": {
     "iopub.execute_input": "2023-04-29T16:29:24.752624Z",
     "iopub.status.busy": "2023-04-29T16:29:24.752077Z",
     "iopub.status.idle": "2023-04-29T16:29:25.034085Z",
     "shell.execute_reply": "2023-04-29T16:29:25.032500Z",
     "shell.execute_reply.started": "2023-04-29T16:29:24.752570Z"
    },
    "papermill": {
     "duration": 0.27164,
     "end_time": "2023-04-27T09:25:13.260894",
     "exception": false,
     "start_time": "2023-04-27T09:25:12.989254",
     "status": "completed"
    },
    "tags": []
   },
   "outputs": [],
   "source": [
    "table = pd.merge(transaction_db, store_db)"
   ]
  },
  {
   "cell_type": "markdown",
   "id": "1a2e2608",
   "metadata": {
    "_kg_hide-input": false,
    "papermill": {
     "duration": 0.020153,
     "end_time": "2023-04-27T09:25:13.301466",
     "exception": false,
     "start_time": "2023-04-27T09:25:13.281313",
     "status": "completed"
    },
    "tags": []
   },
   "source": [
    "### Splitting data into smaller ones on the Master Data"
   ]
  },
  {
   "cell_type": "code",
   "execution_count": 5,
   "id": "e6f355a9",
   "metadata": {
    "_kg_hide-input": false,
    "execution": {
     "iopub.execute_input": "2023-04-29T16:29:25.035958Z",
     "iopub.status.busy": "2023-04-29T16:29:25.035622Z",
     "iopub.status.idle": "2023-04-29T16:29:26.962353Z",
     "shell.execute_reply": "2023-04-29T16:29:26.961253Z",
     "shell.execute_reply.started": "2023-04-29T16:29:25.035924Z"
    },
    "papermill": {
     "duration": 1.665612,
     "end_time": "2023-04-27T09:25:14.987530",
     "exception": false,
     "start_time": "2023-04-27T09:25:13.321918",
     "status": "completed"
    },
    "tags": []
   },
   "outputs": [],
   "source": [
    "# Amount of money spent in rupees for each transaction by each person on a particular item\n",
    "table['amount'] = table['item_price'] * table['quantity_sold']\n",
    "\n",
    "# Handling the date\n",
    "table['transaction_date'] = table['transaction_date'].str.split(\"T\",n=1,expand=True)[0]\n",
    "table['transaction_date'] = pd.to_datetime(table['transaction_date'],format=\"%Y-%m-%d\")\n",
    "\n",
    "# Splitting the date components\n",
    "table['year'] = table['transaction_date'].dt.year\n",
    "table['month'] = table['transaction_date'].dt.month\n",
    "table['date'] = table['transaction_date'].dt.day\n",
    "table['weekday'] = table['transaction_date'].dt.weekday "
   ]
  },
  {
   "cell_type": "code",
   "execution_count": 6,
   "id": "1a93c579",
   "metadata": {
    "_kg_hide-input": false,
    "execution": {
     "iopub.execute_input": "2023-04-29T16:29:26.965572Z",
     "iopub.status.busy": "2023-04-29T16:29:26.964671Z",
     "iopub.status.idle": "2023-04-29T16:29:27.155815Z",
     "shell.execute_reply": "2023-04-29T16:29:27.154741Z",
     "shell.execute_reply.started": "2023-04-29T16:29:26.965511Z"
    },
    "papermill": {
     "duration": 0.193497,
     "end_time": "2023-04-27T09:25:15.203407",
     "exception": false,
     "start_time": "2023-04-27T09:25:15.009910",
     "status": "completed"
    },
    "tags": []
   },
   "outputs": [],
   "source": [
    "price_item_modes = table.groupby(['item_price'])['item_description'].agg(pd.Series.mode)\n",
    "\n",
    "for i in price_item_modes.index:\n",
    "    if type(price_item_modes[i]) == np.ndarray:\n",
    "        price_item_modes[i] = np.NaN\n",
    "        \n",
    "table['item_description'] = table['item_description'].fillna(table['item_price'].map(price_item_modes))"
   ]
  },
  {
   "cell_type": "code",
   "execution_count": 7,
   "id": "2f62800a",
   "metadata": {
    "_kg_hide-input": false,
    "execution": {
     "iopub.execute_input": "2023-04-29T16:29:27.157908Z",
     "iopub.status.busy": "2023-04-29T16:29:27.157294Z",
     "iopub.status.idle": "2023-04-29T16:29:27.374761Z",
     "shell.execute_reply": "2023-04-29T16:29:27.373087Z",
     "shell.execute_reply.started": "2023-04-29T16:29:27.157866Z"
    },
    "papermill": {
     "duration": 0.218576,
     "end_time": "2023-04-27T09:25:15.443179",
     "exception": false,
     "start_time": "2023-04-27T09:25:15.224603",
     "status": "completed"
    },
    "tags": []
   },
   "outputs": [],
   "source": [
    "table.dropna(subset=['item_description'], inplace=True)"
   ]
  },
  {
   "cell_type": "code",
   "execution_count": 8,
   "id": "44898d85",
   "metadata": {
    "_kg_hide-input": false,
    "execution": {
     "iopub.execute_input": "2023-04-29T16:29:27.382633Z",
     "iopub.status.busy": "2023-04-29T16:29:27.376889Z",
     "iopub.status.idle": "2023-04-29T16:29:30.691861Z",
     "shell.execute_reply": "2023-04-29T16:29:30.690626Z",
     "shell.execute_reply.started": "2023-04-29T16:29:27.382557Z"
    },
    "papermill": {
     "duration": 2.973585,
     "end_time": "2023-04-27T09:25:18.438191",
     "exception": false,
     "start_time": "2023-04-27T09:25:15.464606",
     "status": "completed"
    },
    "tags": []
   },
   "outputs": [],
   "source": [
    "# Obtaining the beverage type and the volume of the beverage in each transaction\n",
    "item_desc_split = table['item_description'].str.rsplit(\" \",n=1,expand=True)\n",
    "table['beverage_description'] = item_desc_split[0]\n",
    "table['volume_type'] = item_desc_split[1]\n",
    "\n",
    "# Obtaining the volume of the beverage bottles as millilitres\n",
    "# code obtained from https://stackoverflow.com/a/61041274 \n",
    "vol_data = table.volume_type.str.extract(r'(?i)\\b(\\d+(?:\\.\\d+)?)\\s*(ML|L)\\b', expand=True)\n",
    "vol_data[0] = vol_data[0].astype(float)\n",
    "\n",
    "vol_data = vol_data.replace(['ML','L'],[0,1])\n",
    "vol_data[1].astype(float)\n",
    "\n",
    "vol_data[0] = vol_data[0] + vol_data[1]*999*vol_data[0]\n",
    "\n",
    "table['volume_ml'] = vol_data[0]"
   ]
  },
  {
   "cell_type": "code",
   "execution_count": 9,
   "id": "52016eae",
   "metadata": {
    "_kg_hide-input": false,
    "execution": {
     "iopub.execute_input": "2023-04-29T16:29:30.694236Z",
     "iopub.status.busy": "2023-04-29T16:29:30.693389Z",
     "iopub.status.idle": "2023-04-29T16:29:30.923229Z",
     "shell.execute_reply": "2023-04-29T16:29:30.922260Z",
     "shell.execute_reply.started": "2023-04-29T16:29:30.694177Z"
    },
    "papermill": {
     "duration": 0.246859,
     "end_time": "2023-04-27T09:25:18.706196",
     "exception": false,
     "start_time": "2023-04-27T09:25:18.459337",
     "status": "completed"
    },
    "tags": []
   },
   "outputs": [
    {
     "data": {
      "text/html": [
       "<div>\n",
       "<style scoped>\n",
       "    .dataframe tbody tr th:only-of-type {\n",
       "        vertical-align: middle;\n",
       "    }\n",
       "\n",
       "    .dataframe tbody tr th {\n",
       "        vertical-align: top;\n",
       "    }\n",
       "\n",
       "    .dataframe thead th {\n",
       "        text-align: right;\n",
       "    }\n",
       "</style>\n",
       "<table border=\"1\" class=\"dataframe\">\n",
       "  <thead>\n",
       "    <tr style=\"text-align: right;\">\n",
       "      <th></th>\n",
       "      <th>month</th>\n",
       "      <th>date</th>\n",
       "      <th>weekday</th>\n",
       "      <th>invoice_id</th>\n",
       "      <th>customer_id</th>\n",
       "      <th>beverage_description</th>\n",
       "      <th>volume_ml</th>\n",
       "      <th>item_price</th>\n",
       "      <th>quantity_sold</th>\n",
       "      <th>amount</th>\n",
       "      <th>shop_id</th>\n",
       "      <th>shop_area_sq_ft</th>\n",
       "      <th>shop_profile</th>\n",
       "    </tr>\n",
       "  </thead>\n",
       "  <tbody>\n",
       "    <tr>\n",
       "      <th>0</th>\n",
       "      <td>12</td>\n",
       "      <td>11</td>\n",
       "      <td>5</td>\n",
       "      <td>147.0</td>\n",
       "      <td>BGXA</td>\n",
       "      <td>ORANGE BARLEY</td>\n",
       "      <td>1500.0</td>\n",
       "      <td>220</td>\n",
       "      <td>2</td>\n",
       "      <td>440</td>\n",
       "      <td>SHOP008</td>\n",
       "      <td>678</td>\n",
       "      <td>Moderate</td>\n",
       "    </tr>\n",
       "    <tr>\n",
       "      <th>1</th>\n",
       "      <td>12</td>\n",
       "      <td>13</td>\n",
       "      <td>0</td>\n",
       "      <td>484.0</td>\n",
       "      <td>VN7V</td>\n",
       "      <td>TONIC PET</td>\n",
       "      <td>500.0</td>\n",
       "      <td>160</td>\n",
       "      <td>2</td>\n",
       "      <td>320</td>\n",
       "      <td>SHOP008</td>\n",
       "      <td>678</td>\n",
       "      <td>Moderate</td>\n",
       "    </tr>\n",
       "    <tr>\n",
       "      <th>2</th>\n",
       "      <td>12</td>\n",
       "      <td>13</td>\n",
       "      <td>0</td>\n",
       "      <td>484.0</td>\n",
       "      <td>VN7V</td>\n",
       "      <td>CREAM SODA</td>\n",
       "      <td>1000.0</td>\n",
       "      <td>150</td>\n",
       "      <td>2</td>\n",
       "      <td>300</td>\n",
       "      <td>SHOP008</td>\n",
       "      <td>678</td>\n",
       "      <td>Moderate</td>\n",
       "    </tr>\n",
       "    <tr>\n",
       "      <th>3</th>\n",
       "      <td>12</td>\n",
       "      <td>10</td>\n",
       "      <td>4</td>\n",
       "      <td>1000053.0</td>\n",
       "      <td>VT9C</td>\n",
       "      <td>GINGER BEER</td>\n",
       "      <td>1500.0</td>\n",
       "      <td>220</td>\n",
       "      <td>1</td>\n",
       "      <td>220</td>\n",
       "      <td>SHOP008</td>\n",
       "      <td>678</td>\n",
       "      <td>Moderate</td>\n",
       "    </tr>\n",
       "    <tr>\n",
       "      <th>4</th>\n",
       "      <td>12</td>\n",
       "      <td>10</td>\n",
       "      <td>4</td>\n",
       "      <td>1000057.0</td>\n",
       "      <td>8QLS</td>\n",
       "      <td>GINGER BEER</td>\n",
       "      <td>1500.0</td>\n",
       "      <td>440</td>\n",
       "      <td>1</td>\n",
       "      <td>440</td>\n",
       "      <td>SHOP008</td>\n",
       "      <td>678</td>\n",
       "      <td>Moderate</td>\n",
       "    </tr>\n",
       "    <tr>\n",
       "      <th>...</th>\n",
       "      <td>...</td>\n",
       "      <td>...</td>\n",
       "      <td>...</td>\n",
       "      <td>...</td>\n",
       "      <td>...</td>\n",
       "      <td>...</td>\n",
       "      <td>...</td>\n",
       "      <td>...</td>\n",
       "      <td>...</td>\n",
       "      <td>...</td>\n",
       "      <td>...</td>\n",
       "      <td>...</td>\n",
       "      <td>...</td>\n",
       "    </tr>\n",
       "    <tr>\n",
       "      <th>473969</th>\n",
       "      <td>12</td>\n",
       "      <td>9</td>\n",
       "      <td>3</td>\n",
       "      <td>7030409.0</td>\n",
       "      <td>QVA7</td>\n",
       "      <td>SODA</td>\n",
       "      <td>500.0</td>\n",
       "      <td>70</td>\n",
       "      <td>1</td>\n",
       "      <td>70</td>\n",
       "      <td>SHOP072</td>\n",
       "      <td>617</td>\n",
       "      <td>High</td>\n",
       "    </tr>\n",
       "    <tr>\n",
       "      <th>473970</th>\n",
       "      <td>12</td>\n",
       "      <td>11</td>\n",
       "      <td>5</td>\n",
       "      <td>7030809.0</td>\n",
       "      <td>HXMG</td>\n",
       "      <td>FIT O ORANGE</td>\n",
       "      <td>200.0</td>\n",
       "      <td>140</td>\n",
       "      <td>2</td>\n",
       "      <td>280</td>\n",
       "      <td>SHOP072</td>\n",
       "      <td>617</td>\n",
       "      <td>High</td>\n",
       "    </tr>\n",
       "    <tr>\n",
       "      <th>473971</th>\n",
       "      <td>12</td>\n",
       "      <td>11</td>\n",
       "      <td>5</td>\n",
       "      <td>7030820.0</td>\n",
       "      <td>OUH2</td>\n",
       "      <td>BOTTLED DRINKING WATER</td>\n",
       "      <td>500.0</td>\n",
       "      <td>35</td>\n",
       "      <td>1</td>\n",
       "      <td>35</td>\n",
       "      <td>SHOP072</td>\n",
       "      <td>617</td>\n",
       "      <td>High</td>\n",
       "    </tr>\n",
       "    <tr>\n",
       "      <th>473972</th>\n",
       "      <td>10</td>\n",
       "      <td>21</td>\n",
       "      <td>3</td>\n",
       "      <td>NaN</td>\n",
       "      <td>5IJM</td>\n",
       "      <td>GINGER BEER</td>\n",
       "      <td>1500.0</td>\n",
       "      <td>220</td>\n",
       "      <td>1</td>\n",
       "      <td>220</td>\n",
       "      <td>SHOP072</td>\n",
       "      <td>617</td>\n",
       "      <td>High</td>\n",
       "    </tr>\n",
       "    <tr>\n",
       "      <th>473973</th>\n",
       "      <td>10</td>\n",
       "      <td>27</td>\n",
       "      <td>2</td>\n",
       "      <td>NaN</td>\n",
       "      <td>UARW</td>\n",
       "      <td>CREAM SODA</td>\n",
       "      <td>1500.0</td>\n",
       "      <td>220</td>\n",
       "      <td>0</td>\n",
       "      <td>0</td>\n",
       "      <td>SHOP072</td>\n",
       "      <td>617</td>\n",
       "      <td>High</td>\n",
       "    </tr>\n",
       "  </tbody>\n",
       "</table>\n",
       "<p>473810 rows × 13 columns</p>\n",
       "</div>"
      ],
      "text/plain": [
       "        month  date  weekday  invoice_id customer_id    beverage_description  \\\n",
       "0          12    11        5       147.0        BGXA           ORANGE BARLEY   \n",
       "1          12    13        0       484.0        VN7V               TONIC PET   \n",
       "2          12    13        0       484.0        VN7V              CREAM SODA   \n",
       "3          12    10        4   1000053.0        VT9C             GINGER BEER   \n",
       "4          12    10        4   1000057.0        8QLS             GINGER BEER   \n",
       "...       ...   ...      ...         ...         ...                     ...   \n",
       "473969     12     9        3   7030409.0        QVA7                    SODA   \n",
       "473970     12    11        5   7030809.0        HXMG            FIT O ORANGE   \n",
       "473971     12    11        5   7030820.0        OUH2  BOTTLED DRINKING WATER   \n",
       "473972     10    21        3         NaN        5IJM             GINGER BEER   \n",
       "473973     10    27        2         NaN        UARW              CREAM SODA   \n",
       "\n",
       "        volume_ml  item_price  quantity_sold  amount  shop_id  \\\n",
       "0          1500.0         220              2     440  SHOP008   \n",
       "1           500.0         160              2     320  SHOP008   \n",
       "2          1000.0         150              2     300  SHOP008   \n",
       "3          1500.0         220              1     220  SHOP008   \n",
       "4          1500.0         440              1     440  SHOP008   \n",
       "...           ...         ...            ...     ...      ...   \n",
       "473969      500.0          70              1      70  SHOP072   \n",
       "473970      200.0         140              2     280  SHOP072   \n",
       "473971      500.0          35              1      35  SHOP072   \n",
       "473972     1500.0         220              1     220  SHOP072   \n",
       "473973     1500.0         220              0       0  SHOP072   \n",
       "\n",
       "        shop_area_sq_ft shop_profile  \n",
       "0                   678     Moderate  \n",
       "1                   678     Moderate  \n",
       "2                   678     Moderate  \n",
       "3                   678     Moderate  \n",
       "4                   678     Moderate  \n",
       "...                 ...          ...  \n",
       "473969              617         High  \n",
       "473970              617         High  \n",
       "473971              617         High  \n",
       "473972              617         High  \n",
       "473973              617         High  \n",
       "\n",
       "[473810 rows x 13 columns]"
      ]
     },
     "execution_count": 9,
     "metadata": {},
     "output_type": "execute_result"
    }
   ],
   "source": [
    "reordered_cols = ['month','date','weekday','invoice_id','customer_id','beverage_description',\n",
    "                  'volume_ml','item_price','quantity_sold','amount','shop_id','shop_area_sq_ft',\n",
    "                  'shop_profile']\n",
    "table = table[reordered_cols]\n",
    "table"
   ]
  },
  {
   "cell_type": "markdown",
   "id": "3789d398",
   "metadata": {
    "_kg_hide-input": false,
    "papermill": {
     "duration": 0.02064,
     "end_time": "2023-04-27T09:25:18.748598",
     "exception": false,
     "start_time": "2023-04-27T09:25:18.727958",
     "status": "completed"
    },
    "tags": []
   },
   "source": [
    "## Handling Missing Values"
   ]
  },
  {
   "cell_type": "markdown",
   "id": "6887041a",
   "metadata": {
    "papermill": {
     "duration": 0.021252,
     "end_time": "2023-04-27T09:25:18.790848",
     "exception": false,
     "start_time": "2023-04-27T09:25:18.769596",
     "status": "completed"
    },
    "tags": []
   },
   "source": [
    "There are two features in the original dataset that have missing values. \n",
    "1. Invoice Number\n",
    "2. Item Description (now split as beverage_description & volume_ml)"
   ]
  },
  {
   "cell_type": "markdown",
   "id": "10f13ee8",
   "metadata": {
    "papermill": {
     "duration": 0.020656,
     "end_time": "2023-04-27T09:25:18.832492",
     "exception": false,
     "start_time": "2023-04-27T09:25:18.811836",
     "status": "completed"
    },
    "tags": []
   },
   "source": [
    "To impute the missing invoice numbers we will assume that all transactions that were done using the same customer_id on the same date to be considered as a single invoice. Since we only to identify whether these transactions belong to the same invoice, it is not necessary to identify the correct the invoice id number. Instead we will create a new invoice number starting from the last invoice recorded in the table (i.e. highest number in the invoice_id column)"
   ]
  },
  {
   "cell_type": "code",
   "execution_count": 10,
   "id": "663549bd",
   "metadata": {
    "execution": {
     "iopub.execute_input": "2023-04-29T16:29:30.928510Z",
     "iopub.status.busy": "2023-04-29T16:29:30.927010Z",
     "iopub.status.idle": "2023-04-29T16:29:37.960171Z",
     "shell.execute_reply": "2023-04-29T16:29:37.958893Z",
     "shell.execute_reply.started": "2023-04-29T16:29:30.928454Z"
    },
    "papermill": {
     "duration": 7.148694,
     "end_time": "2023-04-27T09:25:26.002124",
     "exception": false,
     "start_time": "2023-04-27T09:25:18.853430",
     "status": "completed"
    },
    "tags": []
   },
   "outputs": [
    {
     "name": "stderr",
     "output_type": "stream",
     "text": [
      "/opt/conda/lib/python3.7/site-packages/pandas/core/indexing.py:1817: SettingWithCopyWarning: \n",
      "A value is trying to be set on a copy of a slice from a DataFrame.\n",
      "Try using .loc[row_indexer,col_indexer] = value instead\n",
      "\n",
      "See the caveats in the documentation: https://pandas.pydata.org/pandas-docs/stable/user_guide/indexing.html#returning-a-view-versus-a-copy\n",
      "  self._setitem_single_column(loc, value, pi)\n"
     ]
    }
   ],
   "source": [
    "no_inv_db = table.loc[table.invoice_id.isna()]\n",
    "invoice_index = no_inv_db.sort_values(['customer_id','month','date']).groupby(\n",
    "    ['customer_id','month','date']).count().index\n",
    "\n",
    "invoice_i = table.invoice_id.max() + 1\n",
    "for idx in invoice_index:\n",
    "    no_inv_db.loc[(no_inv_db.customer_id == idx[0]) &\n",
    "                  (no_inv_db.month == idx[1]) & \n",
    "                  (no_inv_db.date == idx[2]),'invoice_id'] = invoice_i\n",
    "    invoice_i += 1\n",
    "    \n",
    "table.loc[table.invoice_id.isna()] = no_inv_db"
   ]
  },
  {
   "cell_type": "markdown",
   "id": "b65dff1c",
   "metadata": {
    "papermill": {
     "duration": 0.020987,
     "end_time": "2023-04-27T09:25:26.044751",
     "exception": false,
     "start_time": "2023-04-27T09:25:26.023764",
     "status": "completed"
    },
    "tags": []
   },
   "source": [
    "It is idenitified that shop with id 'SHOP008' has only being functioning in the month December and hence will be dropped from the training data"
   ]
  },
  {
   "cell_type": "markdown",
   "id": "2a5650f7",
   "metadata": {
    "papermill": {
     "duration": 0.020775,
     "end_time": "2023-04-27T09:25:26.086488",
     "exception": false,
     "start_time": "2023-04-27T09:25:26.065713",
     "status": "completed"
    },
    "tags": []
   },
   "source": [
    "table = table.loc[table.shop_id != 'SHOP008']\n",
    "store_db = store_db.loc[store_db.shop_id != 'SHOP008']"
   ]
  },
  {
   "cell_type": "code",
   "execution_count": 11,
   "id": "eb5147b1",
   "metadata": {
    "execution": {
     "iopub.execute_input": "2023-04-29T16:29:37.962035Z",
     "iopub.status.busy": "2023-04-29T16:29:37.961687Z",
     "iopub.status.idle": "2023-04-29T16:29:38.027882Z",
     "shell.execute_reply": "2023-04-29T16:29:38.026433Z",
     "shell.execute_reply.started": "2023-04-29T16:29:37.962000Z"
    },
    "papermill": {
     "duration": 0.085494,
     "end_time": "2023-04-27T09:25:26.193183",
     "exception": false,
     "start_time": "2023-04-27T09:25:26.107689",
     "status": "completed"
    },
    "tags": []
   },
   "outputs": [
    {
     "data": {
      "text/html": [
       "<div>\n",
       "<style scoped>\n",
       "    .dataframe tbody tr th:only-of-type {\n",
       "        vertical-align: middle;\n",
       "    }\n",
       "\n",
       "    .dataframe tbody tr th {\n",
       "        vertical-align: top;\n",
       "    }\n",
       "\n",
       "    .dataframe thead th {\n",
       "        text-align: right;\n",
       "    }\n",
       "</style>\n",
       "<table border=\"1\" class=\"dataframe\">\n",
       "  <thead>\n",
       "    <tr style=\"text-align: right;\">\n",
       "      <th></th>\n",
       "      <th>month</th>\n",
       "      <th>date</th>\n",
       "      <th>weekday</th>\n",
       "      <th>invoice_id</th>\n",
       "      <th>customer_id</th>\n",
       "      <th>beverage_description</th>\n",
       "      <th>volume_ml</th>\n",
       "      <th>item_price</th>\n",
       "      <th>quantity_sold</th>\n",
       "      <th>amount</th>\n",
       "      <th>shop_id</th>\n",
       "      <th>shop_area_sq_ft</th>\n",
       "      <th>shop_profile</th>\n",
       "    </tr>\n",
       "  </thead>\n",
       "  <tbody>\n",
       "    <tr>\n",
       "      <th>21177</th>\n",
       "      <td>10</td>\n",
       "      <td>17</td>\n",
       "      <td>6</td>\n",
       "      <td>30956.0</td>\n",
       "      <td>4OFQ</td>\n",
       "      <td>SODA</td>\n",
       "      <td>1000.0</td>\n",
       "      <td>110</td>\n",
       "      <td>1</td>\n",
       "      <td>110</td>\n",
       "      <td>SHOP047</td>\n",
       "      <td>528</td>\n",
       "      <td>Moderate</td>\n",
       "    </tr>\n",
       "    <tr>\n",
       "      <th>21178</th>\n",
       "      <td>10</td>\n",
       "      <td>20</td>\n",
       "      <td>2</td>\n",
       "      <td>31418.0</td>\n",
       "      <td>KQYP</td>\n",
       "      <td>ORANGE BARLEY</td>\n",
       "      <td>1500.0</td>\n",
       "      <td>220</td>\n",
       "      <td>1</td>\n",
       "      <td>220</td>\n",
       "      <td>SHOP047</td>\n",
       "      <td>528</td>\n",
       "      <td>Moderate</td>\n",
       "    </tr>\n",
       "    <tr>\n",
       "      <th>21179</th>\n",
       "      <td>11</td>\n",
       "      <td>1</td>\n",
       "      <td>0</td>\n",
       "      <td>33467.0</td>\n",
       "      <td>WCZT</td>\n",
       "      <td>GINGER BEER</td>\n",
       "      <td>1500.0</td>\n",
       "      <td>220</td>\n",
       "      <td>2</td>\n",
       "      <td>440</td>\n",
       "      <td>SHOP047</td>\n",
       "      <td>528</td>\n",
       "      <td>Moderate</td>\n",
       "    </tr>\n",
       "    <tr>\n",
       "      <th>21180</th>\n",
       "      <td>11</td>\n",
       "      <td>6</td>\n",
       "      <td>5</td>\n",
       "      <td>34265.0</td>\n",
       "      <td>KD8T</td>\n",
       "      <td>FIT O MIXED FRUIT</td>\n",
       "      <td>200.0</td>\n",
       "      <td>60</td>\n",
       "      <td>1</td>\n",
       "      <td>60</td>\n",
       "      <td>SHOP047</td>\n",
       "      <td>528</td>\n",
       "      <td>Moderate</td>\n",
       "    </tr>\n",
       "    <tr>\n",
       "      <th>21181</th>\n",
       "      <td>11</td>\n",
       "      <td>6</td>\n",
       "      <td>5</td>\n",
       "      <td>34265.0</td>\n",
       "      <td>KD8T</td>\n",
       "      <td>GINGER BEER</td>\n",
       "      <td>1500.0</td>\n",
       "      <td>220</td>\n",
       "      <td>2</td>\n",
       "      <td>440</td>\n",
       "      <td>SHOP047</td>\n",
       "      <td>528</td>\n",
       "      <td>Moderate</td>\n",
       "    </tr>\n",
       "    <tr>\n",
       "      <th>...</th>\n",
       "      <td>...</td>\n",
       "      <td>...</td>\n",
       "      <td>...</td>\n",
       "      <td>...</td>\n",
       "      <td>...</td>\n",
       "      <td>...</td>\n",
       "      <td>...</td>\n",
       "      <td>...</td>\n",
       "      <td>...</td>\n",
       "      <td>...</td>\n",
       "      <td>...</td>\n",
       "      <td>...</td>\n",
       "      <td>...</td>\n",
       "    </tr>\n",
       "    <tr>\n",
       "      <th>22864</th>\n",
       "      <td>11</td>\n",
       "      <td>18</td>\n",
       "      <td>3</td>\n",
       "      <td>2026696.0</td>\n",
       "      <td>ULVU</td>\n",
       "      <td>NECTO</td>\n",
       "      <td>500.0</td>\n",
       "      <td>100</td>\n",
       "      <td>1</td>\n",
       "      <td>100</td>\n",
       "      <td>SHOP047</td>\n",
       "      <td>528</td>\n",
       "      <td>Moderate</td>\n",
       "    </tr>\n",
       "    <tr>\n",
       "      <th>22865</th>\n",
       "      <td>11</td>\n",
       "      <td>28</td>\n",
       "      <td>6</td>\n",
       "      <td>2027937.0</td>\n",
       "      <td>5C5L</td>\n",
       "      <td>SODA</td>\n",
       "      <td>1000.0</td>\n",
       "      <td>110</td>\n",
       "      <td>2</td>\n",
       "      <td>220</td>\n",
       "      <td>SHOP047</td>\n",
       "      <td>528</td>\n",
       "      <td>Moderate</td>\n",
       "    </tr>\n",
       "    <tr>\n",
       "      <th>22866</th>\n",
       "      <td>10</td>\n",
       "      <td>23</td>\n",
       "      <td>5</td>\n",
       "      <td>3011507.0</td>\n",
       "      <td>IN28</td>\n",
       "      <td>LEMONADE</td>\n",
       "      <td>1500.0</td>\n",
       "      <td>220</td>\n",
       "      <td>2</td>\n",
       "      <td>440</td>\n",
       "      <td>SHOP047</td>\n",
       "      <td>528</td>\n",
       "      <td>Moderate</td>\n",
       "    </tr>\n",
       "    <tr>\n",
       "      <th>22867</th>\n",
       "      <td>10</td>\n",
       "      <td>23</td>\n",
       "      <td>5</td>\n",
       "      <td>3011514.0</td>\n",
       "      <td>4QJ5</td>\n",
       "      <td>GINGER BEER</td>\n",
       "      <td>400.0</td>\n",
       "      <td>600</td>\n",
       "      <td>7</td>\n",
       "      <td>4200</td>\n",
       "      <td>SHOP047</td>\n",
       "      <td>528</td>\n",
       "      <td>Moderate</td>\n",
       "    </tr>\n",
       "    <tr>\n",
       "      <th>22868</th>\n",
       "      <td>12</td>\n",
       "      <td>5</td>\n",
       "      <td>6</td>\n",
       "      <td>3012943.0</td>\n",
       "      <td>7SSJ</td>\n",
       "      <td>FIT O ORANGE</td>\n",
       "      <td>1000.0</td>\n",
       "      <td>290</td>\n",
       "      <td>2</td>\n",
       "      <td>580</td>\n",
       "      <td>SHOP047</td>\n",
       "      <td>528</td>\n",
       "      <td>Moderate</td>\n",
       "    </tr>\n",
       "  </tbody>\n",
       "</table>\n",
       "<p>1691 rows × 13 columns</p>\n",
       "</div>"
      ],
      "text/plain": [
       "       month  date  weekday  invoice_id customer_id beverage_description  \\\n",
       "21177     10    17        6     30956.0        4OFQ                 SODA   \n",
       "21178     10    20        2     31418.0        KQYP        ORANGE BARLEY   \n",
       "21179     11     1        0     33467.0        WCZT          GINGER BEER   \n",
       "21180     11     6        5     34265.0        KD8T    FIT O MIXED FRUIT   \n",
       "21181     11     6        5     34265.0        KD8T          GINGER BEER   \n",
       "...      ...   ...      ...         ...         ...                  ...   \n",
       "22864     11    18        3   2026696.0        ULVU                NECTO   \n",
       "22865     11    28        6   2027937.0        5C5L                 SODA   \n",
       "22866     10    23        5   3011507.0        IN28             LEMONADE   \n",
       "22867     10    23        5   3011514.0        4QJ5          GINGER BEER   \n",
       "22868     12     5        6   3012943.0        7SSJ         FIT O ORANGE   \n",
       "\n",
       "       volume_ml  item_price  quantity_sold  amount  shop_id  shop_area_sq_ft  \\\n",
       "21177     1000.0         110              1     110  SHOP047              528   \n",
       "21178     1500.0         220              1     220  SHOP047              528   \n",
       "21179     1500.0         220              2     440  SHOP047              528   \n",
       "21180      200.0          60              1      60  SHOP047              528   \n",
       "21181     1500.0         220              2     440  SHOP047              528   \n",
       "...          ...         ...            ...     ...      ...              ...   \n",
       "22864      500.0         100              1     100  SHOP047              528   \n",
       "22865     1000.0         110              2     220  SHOP047              528   \n",
       "22866     1500.0         220              2     440  SHOP047              528   \n",
       "22867      400.0         600              7    4200  SHOP047              528   \n",
       "22868     1000.0         290              2     580  SHOP047              528   \n",
       "\n",
       "      shop_profile  \n",
       "21177     Moderate  \n",
       "21178     Moderate  \n",
       "21179     Moderate  \n",
       "21180     Moderate  \n",
       "21181     Moderate  \n",
       "...            ...  \n",
       "22864     Moderate  \n",
       "22865     Moderate  \n",
       "22866     Moderate  \n",
       "22867     Moderate  \n",
       "22868     Moderate  \n",
       "\n",
       "[1691 rows x 13 columns]"
      ]
     },
     "execution_count": 11,
     "metadata": {},
     "output_type": "execute_result"
    }
   ],
   "source": [
    "table.loc[table.shop_id == 'SHOP047']"
   ]
  },
  {
   "cell_type": "markdown",
   "id": "54bbb3c1",
   "metadata": {
    "papermill": {
     "duration": 0.02098,
     "end_time": "2023-04-27T09:25:26.235433",
     "exception": false,
     "start_time": "2023-04-27T09:25:26.214453",
     "status": "completed"
    },
    "tags": []
   },
   "source": [
    "## Forming Aggregate Data Regarding each shop"
   ]
  },
  {
   "cell_type": "code",
   "execution_count": 12,
   "id": "cb807c0d",
   "metadata": {
    "execution": {
     "iopub.execute_input": "2023-04-29T16:29:38.029975Z",
     "iopub.status.busy": "2023-04-29T16:29:38.029600Z",
     "iopub.status.idle": "2023-04-29T16:29:38.035211Z",
     "shell.execute_reply": "2023-04-29T16:29:38.034033Z",
     "shell.execute_reply.started": "2023-04-29T16:29:38.029941Z"
    },
    "papermill": {
     "duration": 0.030265,
     "end_time": "2023-04-27T09:25:26.286831",
     "exception": false,
     "start_time": "2023-04-27T09:25:26.256566",
     "status": "completed"
    },
    "tags": []
   },
   "outputs": [],
   "source": [
    "store_table = store_db.copy()"
   ]
  },
  {
   "cell_type": "markdown",
   "id": "c56044b8",
   "metadata": {
    "execution": {
     "iopub.execute_input": "2023-04-27T08:39:03.212175Z",
     "iopub.status.busy": "2023-04-27T08:39:03.211733Z",
     "iopub.status.idle": "2023-04-27T08:39:03.251820Z",
     "shell.execute_reply": "2023-04-27T08:39:03.250381Z",
     "shell.execute_reply.started": "2023-04-27T08:39:03.212135Z"
    },
    "papermill": {
     "duration": 0.021069,
     "end_time": "2023-04-27T09:25:26.329795",
     "exception": false,
     "start_time": "2023-04-27T09:25:26.308726",
     "status": "completed"
    },
    "tags": []
   },
   "source": [
    "store_table = store_table.loc[store_table.shop_id != \"SHOP008\"]\n",
    "store_table"
   ]
  },
  {
   "cell_type": "code",
   "execution_count": 13,
   "id": "638599ee",
   "metadata": {
    "execution": {
     "iopub.execute_input": "2023-04-29T16:29:38.037077Z",
     "iopub.status.busy": "2023-04-29T16:29:38.036752Z",
     "iopub.status.idle": "2023-04-29T16:29:38.050312Z",
     "shell.execute_reply": "2023-04-29T16:29:38.049012Z",
     "shell.execute_reply.started": "2023-04-29T16:29:38.037044Z"
    },
    "papermill": {
     "duration": 0.031834,
     "end_time": "2023-04-27T09:25:26.384675",
     "exception": false,
     "start_time": "2023-04-27T09:25:26.352841",
     "status": "completed"
    },
    "tags": []
   },
   "outputs": [],
   "source": [
    "def add_new_feature(database, col_name, new_series):\n",
    "    database[col_name] = 0\n",
    "    i=0\n",
    "    for idx in database.shop_id:\n",
    "        database.loc[i, col_name] = new_series.loc[idx][0]\n",
    "        i+=1\n",
    "    return database"
   ]
  },
  {
   "cell_type": "code",
   "execution_count": 14,
   "id": "3737c012",
   "metadata": {
    "execution": {
     "iopub.execute_input": "2023-04-29T16:29:38.052362Z",
     "iopub.status.busy": "2023-04-29T16:29:38.051965Z",
     "iopub.status.idle": "2023-04-29T16:29:38.069359Z",
     "shell.execute_reply": "2023-04-29T16:29:38.067801Z",
     "shell.execute_reply.started": "2023-04-29T16:29:38.052321Z"
    },
    "papermill": {
     "duration": 0.036506,
     "end_time": "2023-04-27T09:25:26.443234",
     "exception": false,
     "start_time": "2023-04-27T09:25:26.406728",
     "status": "completed"
    },
    "tags": []
   },
   "outputs": [
    {
     "data": {
      "text/plain": [
       "0      SHOP047\n",
       "1      SHOP009\n",
       "2      SHOP083\n",
       "3      SHOP117\n",
       "4      SHOP042\n",
       "        ...   \n",
       "119    SHOP087\n",
       "120    SHOP050\n",
       "121    SHOP061\n",
       "122    SHOP056\n",
       "123    SHOP070\n",
       "Name: shop_id, Length: 124, dtype: object"
      ]
     },
     "execution_count": 14,
     "metadata": {},
     "output_type": "execute_result"
    }
   ],
   "source": [
    "all_shop_index = store_table.shop_id\n",
    "all_shop_index = all_shop_index.dropna()\n",
    "all_shop_index"
   ]
  },
  {
   "cell_type": "code",
   "execution_count": 15,
   "id": "039f1b58",
   "metadata": {
    "execution": {
     "iopub.execute_input": "2023-04-29T16:29:38.073364Z",
     "iopub.status.busy": "2023-04-29T16:29:38.071876Z",
     "iopub.status.idle": "2023-04-29T16:29:38.170059Z",
     "shell.execute_reply": "2023-04-29T16:29:38.168645Z",
     "shell.execute_reply.started": "2023-04-29T16:29:38.073294Z"
    },
    "papermill": {
     "duration": 0.118221,
     "end_time": "2023-04-27T09:25:26.583578",
     "exception": false,
     "start_time": "2023-04-27T09:25:26.465357",
     "status": "completed"
    },
    "tags": []
   },
   "outputs": [],
   "source": [
    "tot_sales = pd.DataFrame( table.groupby('shop_id', sort=False)['amount'].sum())\n",
    "store_table = add_new_feature(store_table, 'tot_sales', tot_sales)"
   ]
  },
  {
   "cell_type": "code",
   "execution_count": 16,
   "id": "07c97e53",
   "metadata": {
    "execution": {
     "iopub.execute_input": "2023-04-29T16:29:38.172661Z",
     "iopub.status.busy": "2023-04-29T16:29:38.171844Z",
     "iopub.status.idle": "2023-04-29T16:29:38.257717Z",
     "shell.execute_reply": "2023-04-29T16:29:38.256366Z",
     "shell.execute_reply.started": "2023-04-29T16:29:38.172622Z"
    },
    "papermill": {
     "duration": 0.10699,
     "end_time": "2023-04-27T09:25:26.712856",
     "exception": false,
     "start_time": "2023-04-27T09:25:26.605866",
     "status": "completed"
    },
    "tags": []
   },
   "outputs": [],
   "source": [
    "oct_sales = pd.DataFrame(table.loc[table.month == 10].groupby('shop_id',sort=False)['amount'].sum(),index=all_shop_index)\n",
    "store_table = add_new_feature(store_table, 'oct_sales', oct_sales)"
   ]
  },
  {
   "cell_type": "code",
   "execution_count": 17,
   "id": "f96635c9",
   "metadata": {
    "execution": {
     "iopub.execute_input": "2023-04-29T16:29:38.259704Z",
     "iopub.status.busy": "2023-04-29T16:29:38.259383Z",
     "iopub.status.idle": "2023-04-29T16:29:38.343123Z",
     "shell.execute_reply": "2023-04-29T16:29:38.341620Z",
     "shell.execute_reply.started": "2023-04-29T16:29:38.259672Z"
    },
    "papermill": {
     "duration": 0.100061,
     "end_time": "2023-04-27T09:25:26.834644",
     "exception": false,
     "start_time": "2023-04-27T09:25:26.734583",
     "status": "completed"
    },
    "tags": []
   },
   "outputs": [],
   "source": [
    "nov_1_sales = pd.DataFrame(table.loc[(table.month == 11) & (table.date <= 15)].groupby('shop_id',sort=False)['amount'].sum(),index=all_shop_index)\n",
    "store_table = add_new_feature(store_table, 'nov_1_sales', nov_1_sales)"
   ]
  },
  {
   "cell_type": "code",
   "execution_count": 18,
   "id": "54345af6",
   "metadata": {
    "execution": {
     "iopub.execute_input": "2023-04-29T16:29:38.345410Z",
     "iopub.status.busy": "2023-04-29T16:29:38.344974Z",
     "iopub.status.idle": "2023-04-29T16:29:38.428332Z",
     "shell.execute_reply": "2023-04-29T16:29:38.426820Z",
     "shell.execute_reply.started": "2023-04-29T16:29:38.345371Z"
    },
    "papermill": {
     "duration": 0.102645,
     "end_time": "2023-04-27T09:25:26.959416",
     "exception": false,
     "start_time": "2023-04-27T09:25:26.856771",
     "status": "completed"
    },
    "tags": []
   },
   "outputs": [],
   "source": [
    "nov_2_sales = pd.DataFrame(table.loc[(table.month == 11) & (table.date > 15)].groupby('shop_id',sort=False)['amount'].sum(),index=all_shop_index)\n",
    "store_table = add_new_feature(store_table, 'nov_2_sales', nov_2_sales)"
   ]
  },
  {
   "cell_type": "code",
   "execution_count": 19,
   "id": "326bac28",
   "metadata": {
    "execution": {
     "iopub.execute_input": "2023-04-29T16:29:38.430223Z",
     "iopub.status.busy": "2023-04-29T16:29:38.429888Z",
     "iopub.status.idle": "2023-04-29T16:29:38.519397Z",
     "shell.execute_reply": "2023-04-29T16:29:38.518198Z",
     "shell.execute_reply.started": "2023-04-29T16:29:38.430189Z"
    },
    "papermill": {
     "duration": 0.114874,
     "end_time": "2023-04-27T09:25:27.095905",
     "exception": false,
     "start_time": "2023-04-27T09:25:26.981031",
     "status": "completed"
    },
    "tags": []
   },
   "outputs": [],
   "source": [
    "dec_sales = pd.DataFrame(table.loc[table.month == 12].groupby('shop_id',sort=False)['amount'].sum(),index=all_shop_index)\n",
    "store_table = add_new_feature(store_table, 'dec_sales', dec_sales)"
   ]
  },
  {
   "cell_type": "code",
   "execution_count": 20,
   "id": "f04682e1",
   "metadata": {
    "execution": {
     "iopub.execute_input": "2023-04-29T16:29:38.521791Z",
     "iopub.status.busy": "2023-04-29T16:29:38.521407Z",
     "iopub.status.idle": "2023-04-29T16:29:38.811739Z",
     "shell.execute_reply": "2023-04-29T16:29:38.810715Z",
     "shell.execute_reply.started": "2023-04-29T16:29:38.521754Z"
    },
    "papermill": {
     "duration": 0.259046,
     "end_time": "2023-04-27T09:25:27.377671",
     "exception": false,
     "start_time": "2023-04-27T09:25:27.118625",
     "status": "completed"
    },
    "tags": []
   },
   "outputs": [],
   "source": [
    "tot_customers = pd.DataFrame( table.groupby('shop_id',sort=False)['customer_id'].nunique(), index=all_shop_index).astype(int)\n",
    "store_table = add_new_feature(store_table, 'tot_customers', tot_customers)"
   ]
  },
  {
   "cell_type": "code",
   "execution_count": 21,
   "id": "9f5fcebd",
   "metadata": {
    "execution": {
     "iopub.execute_input": "2023-04-29T16:29:38.814550Z",
     "iopub.status.busy": "2023-04-29T16:29:38.813665Z",
     "iopub.status.idle": "2023-04-29T16:29:38.967034Z",
     "shell.execute_reply": "2023-04-29T16:29:38.965557Z",
     "shell.execute_reply.started": "2023-04-29T16:29:38.814492Z"
    },
    "papermill": {
     "duration": 0.153647,
     "end_time": "2023-04-27T09:25:27.553602",
     "exception": false,
     "start_time": "2023-04-27T09:25:27.399955",
     "status": "completed"
    },
    "tags": []
   },
   "outputs": [],
   "source": [
    "oct_customers = pd.DataFrame(table.loc[table.month == 10].groupby('shop_id',sort=False)['customer_id'].nunique(),index=all_shop_index)\n",
    "store_table = add_new_feature(store_table, 'oct_customers', oct_customers)"
   ]
  },
  {
   "cell_type": "code",
   "execution_count": 22,
   "id": "67de6d2a",
   "metadata": {
    "execution": {
     "iopub.execute_input": "2023-04-29T16:29:38.968758Z",
     "iopub.status.busy": "2023-04-29T16:29:38.968430Z",
     "iopub.status.idle": "2023-04-29T16:29:39.078792Z",
     "shell.execute_reply": "2023-04-29T16:29:39.077267Z",
     "shell.execute_reply.started": "2023-04-29T16:29:38.968724Z"
    },
    "papermill": {
     "duration": 0.126987,
     "end_time": "2023-04-27T09:25:27.702642",
     "exception": false,
     "start_time": "2023-04-27T09:25:27.575655",
     "status": "completed"
    },
    "tags": []
   },
   "outputs": [],
   "source": [
    "nov_1_customers = pd.DataFrame(table.loc[(table.month == 11) & (table.date <= 15)].groupby('shop_id',sort=False)['customer_id'].nunique(),index=all_shop_index)\n",
    "store_table = add_new_feature(store_table, 'nov_1_customers', nov_1_customers)"
   ]
  },
  {
   "cell_type": "code",
   "execution_count": 23,
   "id": "66ae39d7",
   "metadata": {
    "execution": {
     "iopub.execute_input": "2023-04-29T16:29:39.081341Z",
     "iopub.status.busy": "2023-04-29T16:29:39.080474Z",
     "iopub.status.idle": "2023-04-29T16:29:39.216272Z",
     "shell.execute_reply": "2023-04-29T16:29:39.214614Z",
     "shell.execute_reply.started": "2023-04-29T16:29:39.081274Z"
    },
    "papermill": {
     "duration": 0.13974,
     "end_time": "2023-04-27T09:25:27.864368",
     "exception": false,
     "start_time": "2023-04-27T09:25:27.724628",
     "status": "completed"
    },
    "tags": []
   },
   "outputs": [],
   "source": [
    "nov_2_customers = pd.DataFrame(table.loc[(table.month == 11) & (table.date > 15)].groupby('shop_id',sort=False)['customer_id'].nunique(),index=all_shop_index)\n",
    "store_table = add_new_feature(store_table, 'nov_2_customers', nov_2_customers)"
   ]
  },
  {
   "cell_type": "code",
   "execution_count": 24,
   "id": "1362bf14",
   "metadata": {
    "execution": {
     "iopub.execute_input": "2023-04-29T16:29:39.218468Z",
     "iopub.status.busy": "2023-04-29T16:29:39.218018Z",
     "iopub.status.idle": "2023-04-29T16:29:39.382039Z",
     "shell.execute_reply": "2023-04-29T16:29:39.380705Z",
     "shell.execute_reply.started": "2023-04-29T16:29:39.218424Z"
    },
    "papermill": {
     "duration": 0.15877,
     "end_time": "2023-04-27T09:25:28.045251",
     "exception": false,
     "start_time": "2023-04-27T09:25:27.886481",
     "status": "completed"
    },
    "tags": []
   },
   "outputs": [],
   "source": [
    "dec_customers = pd.DataFrame(table.loc[table.month == 12].groupby('shop_id',sort=False)['customer_id'].nunique(),index=all_shop_index)\n",
    "store_table = add_new_feature(store_table, 'dec_customers', dec_customers)"
   ]
  },
  {
   "cell_type": "code",
   "execution_count": 25,
   "id": "eb7c89c3",
   "metadata": {
    "execution": {
     "iopub.execute_input": "2023-04-29T16:29:39.384460Z",
     "iopub.status.busy": "2023-04-29T16:29:39.383827Z",
     "iopub.status.idle": "2023-04-29T16:29:40.043985Z",
     "shell.execute_reply": "2023-04-29T16:29:40.042606Z",
     "shell.execute_reply.started": "2023-04-29T16:29:39.384412Z"
    },
    "papermill": {
     "duration": 0.697523,
     "end_time": "2023-04-27T09:25:28.764546",
     "exception": false,
     "start_time": "2023-04-27T09:25:28.067023",
     "status": "completed"
    },
    "tags": []
   },
   "outputs": [],
   "source": [
    "visit_per_customer = pd.DataFrame(table.groupby('shop_id')['customer_id'].value_counts())\n",
    "repeat_customers = visit_per_customer.loc[visit_per_customer.customer_id > 1].groupby('shop_id').count()\n",
    "store_table = add_new_feature(store_table, 'repeat_customers', repeat_customers)"
   ]
  },
  {
   "cell_type": "code",
   "execution_count": 26,
   "id": "b9693bba",
   "metadata": {
    "execution": {
     "iopub.execute_input": "2023-04-29T16:29:40.046310Z",
     "iopub.status.busy": "2023-04-29T16:29:40.045617Z",
     "iopub.status.idle": "2023-04-29T16:29:40.107468Z",
     "shell.execute_reply": "2023-04-29T16:29:40.106126Z",
     "shell.execute_reply.started": "2023-04-29T16:29:40.046261Z"
    },
    "papermill": {
     "duration": 0.077833,
     "end_time": "2023-04-27T09:25:28.865268",
     "exception": false,
     "start_time": "2023-04-27T09:25:28.787435",
     "status": "completed"
    },
    "tags": []
   },
   "outputs": [],
   "source": [
    "frequent_customers = visit_per_customer.loc[visit_per_customer.customer_id > 12].groupby('shop_id').count()\n",
    "frequent_customers = pd.DataFrame(frequent_customers, index=all_shop_index)\n",
    "store_table = add_new_feature(store_table, 'frequent_customers', frequent_customers)"
   ]
  },
  {
   "cell_type": "code",
   "execution_count": 27,
   "id": "d5e59ca6",
   "metadata": {
    "execution": {
     "iopub.execute_input": "2023-04-29T16:29:40.110288Z",
     "iopub.status.busy": "2023-04-29T16:29:40.109775Z",
     "iopub.status.idle": "2023-04-29T16:29:40.186112Z",
     "shell.execute_reply": "2023-04-29T16:29:40.184946Z",
     "shell.execute_reply.started": "2023-04-29T16:29:40.110241Z"
    },
    "papermill": {
     "duration": 0.091309,
     "end_time": "2023-04-27T09:25:28.978374",
     "exception": false,
     "start_time": "2023-04-27T09:25:28.887065",
     "status": "completed"
    },
    "tags": []
   },
   "outputs": [],
   "source": [
    "customers_180_bottles = pd.DataFrame(table.loc[table.volume_ml == 180].groupby('shop_id',sort=False)['customer_id'].nunique(),index=all_shop_index)\n",
    "store_table = add_new_feature(store_table, 'customers_180_bottles', customers_180_bottles)"
   ]
  },
  {
   "cell_type": "code",
   "execution_count": 28,
   "id": "5fe8c4e6",
   "metadata": {
    "execution": {
     "iopub.execute_input": "2023-04-29T16:29:40.194534Z",
     "iopub.status.busy": "2023-04-29T16:29:40.193467Z",
     "iopub.status.idle": "2023-04-29T16:29:40.281068Z",
     "shell.execute_reply": "2023-04-29T16:29:40.279708Z",
     "shell.execute_reply.started": "2023-04-29T16:29:40.194479Z"
    },
    "papermill": {
     "duration": 0.095422,
     "end_time": "2023-04-27T09:25:29.095395",
     "exception": false,
     "start_time": "2023-04-27T09:25:28.999973",
     "status": "completed"
    },
    "tags": []
   },
   "outputs": [],
   "source": [
    "customers_200_bottles = pd.DataFrame(table.loc[table.volume_ml == 200].groupby('shop_id',sort=False)['customer_id'].nunique(),index=all_shop_index)\n",
    "store_table = add_new_feature(store_table, 'customers_200_bottles', customers_200_bottles)"
   ]
  },
  {
   "cell_type": "code",
   "execution_count": 29,
   "id": "c6afa559",
   "metadata": {
    "execution": {
     "iopub.execute_input": "2023-04-29T16:29:40.282936Z",
     "iopub.status.busy": "2023-04-29T16:29:40.282579Z",
     "iopub.status.idle": "2023-04-29T16:29:40.341640Z",
     "shell.execute_reply": "2023-04-29T16:29:40.340231Z",
     "shell.execute_reply.started": "2023-04-29T16:29:40.282901Z"
    },
    "papermill": {
     "duration": 0.082645,
     "end_time": "2023-04-27T09:25:29.199415",
     "exception": false,
     "start_time": "2023-04-27T09:25:29.116770",
     "status": "completed"
    },
    "tags": []
   },
   "outputs": [],
   "source": [
    "customers_400_bottles = pd.DataFrame(table.loc[table.volume_ml == 400].groupby('shop_id',sort=False)['customer_id'].nunique(),index=all_shop_index)\n",
    "store_table = add_new_feature(store_table, 'customers_400_bottles', customers_400_bottles)"
   ]
  },
  {
   "cell_type": "code",
   "execution_count": 30,
   "id": "a6fd4a35",
   "metadata": {
    "execution": {
     "iopub.execute_input": "2023-04-29T16:29:40.343736Z",
     "iopub.status.busy": "2023-04-29T16:29:40.343346Z",
     "iopub.status.idle": "2023-04-29T16:29:40.507336Z",
     "shell.execute_reply": "2023-04-29T16:29:40.505854Z",
     "shell.execute_reply.started": "2023-04-29T16:29:40.343699Z"
    },
    "papermill": {
     "duration": 0.162301,
     "end_time": "2023-04-27T09:25:29.383299",
     "exception": false,
     "start_time": "2023-04-27T09:25:29.220998",
     "status": "completed"
    },
    "tags": []
   },
   "outputs": [],
   "source": [
    "customers_500_bottles = pd.DataFrame(table.loc[table.volume_ml == 500].groupby('shop_id',sort=False)['customer_id'].nunique(),index=all_shop_index)\n",
    "store_table = add_new_feature(store_table, 'customers_500_bottles', customers_500_bottles)"
   ]
  },
  {
   "cell_type": "code",
   "execution_count": 31,
   "id": "534c6302",
   "metadata": {
    "execution": {
     "iopub.execute_input": "2023-04-29T16:29:40.509487Z",
     "iopub.status.busy": "2023-04-29T16:29:40.509051Z",
     "iopub.status.idle": "2023-04-29T16:29:40.642282Z",
     "shell.execute_reply": "2023-04-29T16:29:40.640588Z",
     "shell.execute_reply.started": "2023-04-29T16:29:40.509405Z"
    },
    "papermill": {
     "duration": 0.13758,
     "end_time": "2023-04-27T09:25:29.542599",
     "exception": false,
     "start_time": "2023-04-27T09:25:29.405019",
     "status": "completed"
    },
    "tags": []
   },
   "outputs": [],
   "source": [
    "customers_1000_bottles = pd.DataFrame(table.loc[table.volume_ml == 1000].groupby('shop_id',sort=False)['customer_id'].nunique(),index=all_shop_index)\n",
    "store_table = add_new_feature(store_table, 'customers_1000_bottles', customers_1000_bottles)"
   ]
  },
  {
   "cell_type": "code",
   "execution_count": 32,
   "id": "0570198a",
   "metadata": {
    "execution": {
     "iopub.execute_input": "2023-04-29T16:29:40.644295Z",
     "iopub.status.busy": "2023-04-29T16:29:40.643896Z",
     "iopub.status.idle": "2023-04-29T16:29:40.849978Z",
     "shell.execute_reply": "2023-04-29T16:29:40.848657Z",
     "shell.execute_reply.started": "2023-04-29T16:29:40.644257Z"
    },
    "papermill": {
     "duration": 0.188831,
     "end_time": "2023-04-27T09:25:29.753930",
     "exception": false,
     "start_time": "2023-04-27T09:25:29.565099",
     "status": "completed"
    },
    "tags": []
   },
   "outputs": [],
   "source": [
    "customers_1500_bottles = pd.DataFrame(table.loc[table.volume_ml == 1500].groupby('shop_id',sort=False)['customer_id'].nunique(),index=all_shop_index)\n",
    "store_table = add_new_feature(store_table, 'customers_1500_bottles', customers_1500_bottles)"
   ]
  },
  {
   "cell_type": "code",
   "execution_count": 34,
   "id": "a133a0bd",
   "metadata": {
    "execution": {
     "iopub.execute_input": "2023-04-29T16:29:40.864863Z",
     "iopub.status.busy": "2023-04-29T16:29:40.864399Z",
     "iopub.status.idle": "2023-04-29T16:29:40.965803Z",
     "shell.execute_reply": "2023-04-29T16:29:40.964433Z",
     "shell.execute_reply.started": "2023-04-29T16:29:40.864821Z"
    },
    "papermill": {
     "duration": 0.100172,
     "end_time": "2023-04-27T09:25:29.933287",
     "exception": false,
     "start_time": "2023-04-27T09:25:29.833115",
     "status": "completed"
    },
    "tags": []
   },
   "outputs": [
    {
     "data": {
      "text/plain": [
       "array(['ORANGE BARLEY', 'TONIC PET', 'CREAM SODA', 'GINGER BEER',\n",
       "       'CREAM SODA APPLE POP', 'SODA', 'BOTTLED DRINKING WATER',\n",
       "       'LEMONADE', 'KIK COLA', 'STRAWBERRY MILK', 'SODA PET',\n",
       "       'FIT O MIXED FRUIT', 'NECTO', 'FIT O ORANGE', 'FIT O MANGO',\n",
       "       'GINGER BEER SUGAR FREE', 'ORANGE CRUSH', 'CHOCOLATE MILK',\n",
       "       'TWISTEE APPLE', 'DRY GINGER ALE PET', 'LIME CRUSH JUICE'],\n",
       "      dtype=object)"
      ]
     },
     "execution_count": 34,
     "metadata": {},
     "output_type": "execute_result"
    }
   ],
   "source": [
    "table.beverage_description.unique()"
   ]
  },
  {
   "cell_type": "code",
   "execution_count": 35,
   "id": "f8375d80",
   "metadata": {
    "execution": {
     "iopub.execute_input": "2023-04-29T16:29:40.967781Z",
     "iopub.status.busy": "2023-04-29T16:29:40.967429Z",
     "iopub.status.idle": "2023-04-29T16:29:40.975507Z",
     "shell.execute_reply": "2023-04-29T16:29:40.974120Z",
     "shell.execute_reply.started": "2023-04-29T16:29:40.967744Z"
    },
    "papermill": {
     "duration": 0.032107,
     "end_time": "2023-04-27T09:25:29.988014",
     "exception": false,
     "start_time": "2023-04-27T09:25:29.955907",
     "status": "completed"
    },
    "tags": []
   },
   "outputs": [],
   "source": [
    "soft_drinks = ['ORANGE BARLEY','TONIC PET','CREAM SODA','GINGER BEER','CREAM SODA APPLE POP','SODA',\n",
    "               'LEMONADE','KIK COLA','SODA PET','NECTO','GINGER BEER SUGAR FREE','ORANGE CRUSH',\n",
    "               'DRY GINGER ALE PET','LIME CRUSH JUICE']\n",
    "water = ['BOTTLED DRINKING WATER']\n",
    "fruit_drinks = ['FIT O MIXED FRUIT','FIT O ORANGE','FIT O MANGO','TWISTEE APPLE']\n",
    "milk_drinks = ['CHOCOLATE MILK','STRAWBERRY MILK']"
   ]
  },
  {
   "cell_type": "code",
   "execution_count": 36,
   "id": "6d6ef43e",
   "metadata": {
    "execution": {
     "iopub.execute_input": "2023-04-29T16:29:40.977448Z",
     "iopub.status.busy": "2023-04-29T16:29:40.977038Z",
     "iopub.status.idle": "2023-04-29T16:29:41.029292Z",
     "shell.execute_reply": "2023-04-29T16:29:41.027858Z",
     "shell.execute_reply.started": "2023-04-29T16:29:40.977407Z"
    },
    "papermill": {
     "duration": 0.065889,
     "end_time": "2023-04-27T09:25:30.076359",
     "exception": false,
     "start_time": "2023-04-27T09:25:30.010470",
     "status": "completed"
    },
    "tags": []
   },
   "outputs": [
    {
     "data": {
      "text/html": [
       "<div>\n",
       "<style scoped>\n",
       "    .dataframe tbody tr th:only-of-type {\n",
       "        vertical-align: middle;\n",
       "    }\n",
       "\n",
       "    .dataframe tbody tr th {\n",
       "        vertical-align: top;\n",
       "    }\n",
       "\n",
       "    .dataframe thead th {\n",
       "        text-align: right;\n",
       "    }\n",
       "</style>\n",
       "<table border=\"1\" class=\"dataframe\">\n",
       "  <thead>\n",
       "    <tr style=\"text-align: right;\">\n",
       "      <th></th>\n",
       "      <th>shop_id</th>\n",
       "      <th>shop_area_sq_ft</th>\n",
       "      <th>shop_profile</th>\n",
       "      <th>tot_sales</th>\n",
       "      <th>oct_sales</th>\n",
       "      <th>nov_1_sales</th>\n",
       "      <th>nov_2_sales</th>\n",
       "      <th>dec_sales</th>\n",
       "      <th>tot_customers</th>\n",
       "      <th>oct_customers</th>\n",
       "      <th>...</th>\n",
       "      <th>nov_2_customers</th>\n",
       "      <th>dec_customers</th>\n",
       "      <th>repeat_customers</th>\n",
       "      <th>frequent_customers</th>\n",
       "      <th>customers_180_bottles</th>\n",
       "      <th>customers_200_bottles</th>\n",
       "      <th>customers_400_bottles</th>\n",
       "      <th>customers_500_bottles</th>\n",
       "      <th>customers_1000_bottles</th>\n",
       "      <th>customers_1500_bottles</th>\n",
       "    </tr>\n",
       "  </thead>\n",
       "  <tbody>\n",
       "    <tr>\n",
       "      <th>0</th>\n",
       "      <td>SHOP047</td>\n",
       "      <td>528</td>\n",
       "      <td>Moderate</td>\n",
       "      <td>838280</td>\n",
       "      <td>307505.0</td>\n",
       "      <td>147830.0</td>\n",
       "      <td>191790.0</td>\n",
       "      <td>191155</td>\n",
       "      <td>928</td>\n",
       "      <td>370.0</td>\n",
       "      <td>...</td>\n",
       "      <td>256.0</td>\n",
       "      <td>291</td>\n",
       "      <td>318</td>\n",
       "      <td>4.0</td>\n",
       "      <td>55</td>\n",
       "      <td>76</td>\n",
       "      <td>21.0</td>\n",
       "      <td>301</td>\n",
       "      <td>238</td>\n",
       "      <td>422</td>\n",
       "    </tr>\n",
       "    <tr>\n",
       "      <th>1</th>\n",
       "      <td>SHOP009</td>\n",
       "      <td>676</td>\n",
       "      <td>High</td>\n",
       "      <td>1966710</td>\n",
       "      <td>586745.0</td>\n",
       "      <td>290585.0</td>\n",
       "      <td>415425.0</td>\n",
       "      <td>673955</td>\n",
       "      <td>2498</td>\n",
       "      <td>898.0</td>\n",
       "      <td>...</td>\n",
       "      <td>716.0</td>\n",
       "      <td>971</td>\n",
       "      <td>902</td>\n",
       "      <td>4.0</td>\n",
       "      <td>85</td>\n",
       "      <td>151</td>\n",
       "      <td>37.0</td>\n",
       "      <td>1000</td>\n",
       "      <td>490</td>\n",
       "      <td>1196</td>\n",
       "    </tr>\n",
       "    <tr>\n",
       "      <th>2</th>\n",
       "      <td>SHOP083</td>\n",
       "      <td>676</td>\n",
       "      <td>Low</td>\n",
       "      <td>1691985</td>\n",
       "      <td>556160.0</td>\n",
       "      <td>279740.0</td>\n",
       "      <td>378780.0</td>\n",
       "      <td>477305</td>\n",
       "      <td>1900</td>\n",
       "      <td>697.0</td>\n",
       "      <td>...</td>\n",
       "      <td>545.0</td>\n",
       "      <td>691</td>\n",
       "      <td>700</td>\n",
       "      <td>9.0</td>\n",
       "      <td>84</td>\n",
       "      <td>112</td>\n",
       "      <td>17.0</td>\n",
       "      <td>596</td>\n",
       "      <td>503</td>\n",
       "      <td>956</td>\n",
       "    </tr>\n",
       "    <tr>\n",
       "      <th>3</th>\n",
       "      <td>SHOP117</td>\n",
       "      <td>676</td>\n",
       "      <td>Low</td>\n",
       "      <td>2325980</td>\n",
       "      <td>614355.0</td>\n",
       "      <td>403115.0</td>\n",
       "      <td>530415.0</td>\n",
       "      <td>778095</td>\n",
       "      <td>2037</td>\n",
       "      <td>739.0</td>\n",
       "      <td>...</td>\n",
       "      <td>601.0</td>\n",
       "      <td>807</td>\n",
       "      <td>841</td>\n",
       "      <td>9.0</td>\n",
       "      <td>73</td>\n",
       "      <td>138</td>\n",
       "      <td>20.0</td>\n",
       "      <td>696</td>\n",
       "      <td>635</td>\n",
       "      <td>1017</td>\n",
       "    </tr>\n",
       "    <tr>\n",
       "      <th>4</th>\n",
       "      <td>SHOP042</td>\n",
       "      <td>676</td>\n",
       "      <td>Low</td>\n",
       "      <td>1340215</td>\n",
       "      <td>390960.0</td>\n",
       "      <td>207075.0</td>\n",
       "      <td>321510.0</td>\n",
       "      <td>420670</td>\n",
       "      <td>1841</td>\n",
       "      <td>641.0</td>\n",
       "      <td>...</td>\n",
       "      <td>519.0</td>\n",
       "      <td>700</td>\n",
       "      <td>594</td>\n",
       "      <td>9.0</td>\n",
       "      <td>68</td>\n",
       "      <td>87</td>\n",
       "      <td>21.0</td>\n",
       "      <td>636</td>\n",
       "      <td>453</td>\n",
       "      <td>881</td>\n",
       "    </tr>\n",
       "    <tr>\n",
       "      <th>...</th>\n",
       "      <td>...</td>\n",
       "      <td>...</td>\n",
       "      <td>...</td>\n",
       "      <td>...</td>\n",
       "      <td>...</td>\n",
       "      <td>...</td>\n",
       "      <td>...</td>\n",
       "      <td>...</td>\n",
       "      <td>...</td>\n",
       "      <td>...</td>\n",
       "      <td>...</td>\n",
       "      <td>...</td>\n",
       "      <td>...</td>\n",
       "      <td>...</td>\n",
       "      <td>...</td>\n",
       "      <td>...</td>\n",
       "      <td>...</td>\n",
       "      <td>...</td>\n",
       "      <td>...</td>\n",
       "      <td>...</td>\n",
       "      <td>...</td>\n",
       "    </tr>\n",
       "    <tr>\n",
       "      <th>119</th>\n",
       "      <td>SHOP087</td>\n",
       "      <td>527</td>\n",
       "      <td>NaN</td>\n",
       "      <td>1128935</td>\n",
       "      <td>297055.0</td>\n",
       "      <td>140540.0</td>\n",
       "      <td>360755.0</td>\n",
       "      <td>330585</td>\n",
       "      <td>1083</td>\n",
       "      <td>387.0</td>\n",
       "      <td>...</td>\n",
       "      <td>306.0</td>\n",
       "      <td>393</td>\n",
       "      <td>405</td>\n",
       "      <td>3.0</td>\n",
       "      <td>60</td>\n",
       "      <td>43</td>\n",
       "      <td>15.0</td>\n",
       "      <td>314</td>\n",
       "      <td>243</td>\n",
       "      <td>608</td>\n",
       "    </tr>\n",
       "    <tr>\n",
       "      <th>120</th>\n",
       "      <td>SHOP050</td>\n",
       "      <td>411</td>\n",
       "      <td>NaN</td>\n",
       "      <td>2399125</td>\n",
       "      <td>649065.0</td>\n",
       "      <td>248730.0</td>\n",
       "      <td>518975.0</td>\n",
       "      <td>982355</td>\n",
       "      <td>1778</td>\n",
       "      <td>730.0</td>\n",
       "      <td>...</td>\n",
       "      <td>573.0</td>\n",
       "      <td>835</td>\n",
       "      <td>822</td>\n",
       "      <td>13.0</td>\n",
       "      <td>57</td>\n",
       "      <td>93</td>\n",
       "      <td>23.0</td>\n",
       "      <td>548</td>\n",
       "      <td>342</td>\n",
       "      <td>1166</td>\n",
       "    </tr>\n",
       "    <tr>\n",
       "      <th>121</th>\n",
       "      <td>SHOP061</td>\n",
       "      <td>699</td>\n",
       "      <td>NaN</td>\n",
       "      <td>2106120</td>\n",
       "      <td>453755.0</td>\n",
       "      <td>209795.0</td>\n",
       "      <td>781090.0</td>\n",
       "      <td>661480</td>\n",
       "      <td>1745</td>\n",
       "      <td>609.0</td>\n",
       "      <td>...</td>\n",
       "      <td>507.0</td>\n",
       "      <td>658</td>\n",
       "      <td>641</td>\n",
       "      <td>3.0</td>\n",
       "      <td>87</td>\n",
       "      <td>125</td>\n",
       "      <td>20.0</td>\n",
       "      <td>387</td>\n",
       "      <td>503</td>\n",
       "      <td>991</td>\n",
       "    </tr>\n",
       "    <tr>\n",
       "      <th>122</th>\n",
       "      <td>SHOP056</td>\n",
       "      <td>597</td>\n",
       "      <td>NaN</td>\n",
       "      <td>3018540</td>\n",
       "      <td>872410.0</td>\n",
       "      <td>575745.0</td>\n",
       "      <td>585555.0</td>\n",
       "      <td>984830</td>\n",
       "      <td>2831</td>\n",
       "      <td>1012.0</td>\n",
       "      <td>...</td>\n",
       "      <td>865.0</td>\n",
       "      <td>1186</td>\n",
       "      <td>1125</td>\n",
       "      <td>22.0</td>\n",
       "      <td>119</td>\n",
       "      <td>236</td>\n",
       "      <td>30.0</td>\n",
       "      <td>919</td>\n",
       "      <td>634</td>\n",
       "      <td>1522</td>\n",
       "    </tr>\n",
       "    <tr>\n",
       "      <th>123</th>\n",
       "      <td>SHOP070</td>\n",
       "      <td>676</td>\n",
       "      <td>NaN</td>\n",
       "      <td>1325070</td>\n",
       "      <td>315855.0</td>\n",
       "      <td>204455.0</td>\n",
       "      <td>272500.0</td>\n",
       "      <td>532260</td>\n",
       "      <td>1423</td>\n",
       "      <td>492.0</td>\n",
       "      <td>...</td>\n",
       "      <td>438.0</td>\n",
       "      <td>590</td>\n",
       "      <td>563</td>\n",
       "      <td>5.0</td>\n",
       "      <td>69</td>\n",
       "      <td>103</td>\n",
       "      <td>19.0</td>\n",
       "      <td>366</td>\n",
       "      <td>351</td>\n",
       "      <td>833</td>\n",
       "    </tr>\n",
       "  </tbody>\n",
       "</table>\n",
       "<p>124 rows × 21 columns</p>\n",
       "</div>"
      ],
      "text/plain": [
       "     shop_id  shop_area_sq_ft shop_profile  tot_sales  oct_sales  nov_1_sales  \\\n",
       "0    SHOP047              528     Moderate     838280   307505.0     147830.0   \n",
       "1    SHOP009              676         High    1966710   586745.0     290585.0   \n",
       "2    SHOP083              676          Low    1691985   556160.0     279740.0   \n",
       "3    SHOP117              676          Low    2325980   614355.0     403115.0   \n",
       "4    SHOP042              676          Low    1340215   390960.0     207075.0   \n",
       "..       ...              ...          ...        ...        ...          ...   \n",
       "119  SHOP087              527          NaN    1128935   297055.0     140540.0   \n",
       "120  SHOP050              411          NaN    2399125   649065.0     248730.0   \n",
       "121  SHOP061              699          NaN    2106120   453755.0     209795.0   \n",
       "122  SHOP056              597          NaN    3018540   872410.0     575745.0   \n",
       "123  SHOP070              676          NaN    1325070   315855.0     204455.0   \n",
       "\n",
       "     nov_2_sales  dec_sales  tot_customers  oct_customers  ...  \\\n",
       "0       191790.0     191155            928          370.0  ...   \n",
       "1       415425.0     673955           2498          898.0  ...   \n",
       "2       378780.0     477305           1900          697.0  ...   \n",
       "3       530415.0     778095           2037          739.0  ...   \n",
       "4       321510.0     420670           1841          641.0  ...   \n",
       "..           ...        ...            ...            ...  ...   \n",
       "119     360755.0     330585           1083          387.0  ...   \n",
       "120     518975.0     982355           1778          730.0  ...   \n",
       "121     781090.0     661480           1745          609.0  ...   \n",
       "122     585555.0     984830           2831         1012.0  ...   \n",
       "123     272500.0     532260           1423          492.0  ...   \n",
       "\n",
       "     nov_2_customers  dec_customers  repeat_customers  frequent_customers  \\\n",
       "0              256.0            291               318                 4.0   \n",
       "1              716.0            971               902                 4.0   \n",
       "2              545.0            691               700                 9.0   \n",
       "3              601.0            807               841                 9.0   \n",
       "4              519.0            700               594                 9.0   \n",
       "..               ...            ...               ...                 ...   \n",
       "119            306.0            393               405                 3.0   \n",
       "120            573.0            835               822                13.0   \n",
       "121            507.0            658               641                 3.0   \n",
       "122            865.0           1186              1125                22.0   \n",
       "123            438.0            590               563                 5.0   \n",
       "\n",
       "     customers_180_bottles  customers_200_bottles  customers_400_bottles  \\\n",
       "0                       55                     76                   21.0   \n",
       "1                       85                    151                   37.0   \n",
       "2                       84                    112                   17.0   \n",
       "3                       73                    138                   20.0   \n",
       "4                       68                     87                   21.0   \n",
       "..                     ...                    ...                    ...   \n",
       "119                     60                     43                   15.0   \n",
       "120                     57                     93                   23.0   \n",
       "121                     87                    125                   20.0   \n",
       "122                    119                    236                   30.0   \n",
       "123                     69                    103                   19.0   \n",
       "\n",
       "     customers_500_bottles  customers_1000_bottles  customers_1500_bottles  \n",
       "0                      301                     238                     422  \n",
       "1                     1000                     490                    1196  \n",
       "2                      596                     503                     956  \n",
       "3                      696                     635                    1017  \n",
       "4                      636                     453                     881  \n",
       "..                     ...                     ...                     ...  \n",
       "119                    314                     243                     608  \n",
       "120                    548                     342                    1166  \n",
       "121                    387                     503                     991  \n",
       "122                    919                     634                    1522  \n",
       "123                    366                     351                     833  \n",
       "\n",
       "[124 rows x 21 columns]"
      ]
     },
     "execution_count": 36,
     "metadata": {},
     "output_type": "execute_result"
    }
   ],
   "source": [
    "store_table"
   ]
  },
  {
   "cell_type": "code",
   "execution_count": 37,
   "id": "1dc006db",
   "metadata": {
    "execution": {
     "iopub.execute_input": "2023-04-29T16:29:41.033355Z",
     "iopub.status.busy": "2023-04-29T16:29:41.032016Z",
     "iopub.status.idle": "2023-04-29T16:29:42.497827Z",
     "shell.execute_reply": "2023-04-29T16:29:42.496491Z",
     "shell.execute_reply.started": "2023-04-29T16:29:41.033306Z"
    },
    "papermill": {
     "duration": 1.403779,
     "end_time": "2023-04-27T09:25:31.503494",
     "exception": false,
     "start_time": "2023-04-27T09:25:30.099715",
     "status": "completed"
    },
    "tags": []
   },
   "outputs": [],
   "source": [
    "for drink in soft_drinks:\n",
    "    drink_db = table.loc[table.beverage_description == drink]\n",
    "    drink_db = pd.DataFrame(table.loc[drink_db.index].groupby(['shop_id'],sort=False)['amount'].sum(), index=all_shop_index)\n",
    "    drink_db = drink_db.amount.fillna(0)\n",
    "    \n",
    "    drink_db = pd.Series(drink_db)\n",
    "#     store_table = add_new_feature(store_table, drink, drink_db)\n",
    "    store_table[drink] = 0\n",
    "    i=0\n",
    "    for idx in store_table.shop_id:\n",
    "        store_table.loc[i, drink] = drink_db.loc[idx]\n",
    "        i+=1"
   ]
  },
  {
   "cell_type": "code",
   "execution_count": 38,
   "id": "82d73a1f",
   "metadata": {
    "execution": {
     "iopub.execute_input": "2023-04-29T16:29:42.500257Z",
     "iopub.status.busy": "2023-04-29T16:29:42.499764Z",
     "iopub.status.idle": "2023-04-29T16:29:42.540271Z",
     "shell.execute_reply": "2023-04-29T16:29:42.538745Z",
     "shell.execute_reply.started": "2023-04-29T16:29:42.500214Z"
    },
    "papermill": {
     "duration": 0.073663,
     "end_time": "2023-04-27T09:25:31.607652",
     "exception": false,
     "start_time": "2023-04-27T09:25:31.533989",
     "status": "completed"
    },
    "tags": []
   },
   "outputs": [
    {
     "data": {
      "text/html": [
       "<div>\n",
       "<style scoped>\n",
       "    .dataframe tbody tr th:only-of-type {\n",
       "        vertical-align: middle;\n",
       "    }\n",
       "\n",
       "    .dataframe tbody tr th {\n",
       "        vertical-align: top;\n",
       "    }\n",
       "\n",
       "    .dataframe thead th {\n",
       "        text-align: right;\n",
       "    }\n",
       "</style>\n",
       "<table border=\"1\" class=\"dataframe\">\n",
       "  <thead>\n",
       "    <tr style=\"text-align: right;\">\n",
       "      <th></th>\n",
       "      <th>shop_id</th>\n",
       "      <th>shop_area_sq_ft</th>\n",
       "      <th>shop_profile</th>\n",
       "      <th>tot_sales</th>\n",
       "      <th>oct_sales</th>\n",
       "      <th>nov_1_sales</th>\n",
       "      <th>nov_2_sales</th>\n",
       "      <th>dec_sales</th>\n",
       "      <th>tot_customers</th>\n",
       "      <th>oct_customers</th>\n",
       "      <th>...</th>\n",
       "      <th>CREAM SODA APPLE POP</th>\n",
       "      <th>SODA</th>\n",
       "      <th>LEMONADE</th>\n",
       "      <th>KIK COLA</th>\n",
       "      <th>SODA PET</th>\n",
       "      <th>NECTO</th>\n",
       "      <th>GINGER BEER SUGAR FREE</th>\n",
       "      <th>ORANGE CRUSH</th>\n",
       "      <th>DRY GINGER ALE PET</th>\n",
       "      <th>LIME CRUSH JUICE</th>\n",
       "    </tr>\n",
       "  </thead>\n",
       "  <tbody>\n",
       "    <tr>\n",
       "      <th>0</th>\n",
       "      <td>SHOP047</td>\n",
       "      <td>528</td>\n",
       "      <td>Moderate</td>\n",
       "      <td>838280</td>\n",
       "      <td>307505.0</td>\n",
       "      <td>147830.0</td>\n",
       "      <td>191790.0</td>\n",
       "      <td>191155</td>\n",
       "      <td>928</td>\n",
       "      <td>370.0</td>\n",
       "      <td>...</td>\n",
       "      <td>11850</td>\n",
       "      <td>85990</td>\n",
       "      <td>15980</td>\n",
       "      <td>840</td>\n",
       "      <td>43910</td>\n",
       "      <td>34780</td>\n",
       "      <td>3280</td>\n",
       "      <td>37130</td>\n",
       "      <td>1760</td>\n",
       "      <td>0</td>\n",
       "    </tr>\n",
       "    <tr>\n",
       "      <th>1</th>\n",
       "      <td>SHOP009</td>\n",
       "      <td>676</td>\n",
       "      <td>High</td>\n",
       "      <td>1966710</td>\n",
       "      <td>586745.0</td>\n",
       "      <td>290585.0</td>\n",
       "      <td>415425.0</td>\n",
       "      <td>673955</td>\n",
       "      <td>2498</td>\n",
       "      <td>898.0</td>\n",
       "      <td>...</td>\n",
       "      <td>45150</td>\n",
       "      <td>252180</td>\n",
       "      <td>64480</td>\n",
       "      <td>5400</td>\n",
       "      <td>37040</td>\n",
       "      <td>122600</td>\n",
       "      <td>11120</td>\n",
       "      <td>62300</td>\n",
       "      <td>13220</td>\n",
       "      <td>0</td>\n",
       "    </tr>\n",
       "    <tr>\n",
       "      <th>2</th>\n",
       "      <td>SHOP083</td>\n",
       "      <td>676</td>\n",
       "      <td>Low</td>\n",
       "      <td>1691985</td>\n",
       "      <td>556160.0</td>\n",
       "      <td>279740.0</td>\n",
       "      <td>378780.0</td>\n",
       "      <td>477305</td>\n",
       "      <td>1900</td>\n",
       "      <td>697.0</td>\n",
       "      <td>...</td>\n",
       "      <td>36750</td>\n",
       "      <td>162610</td>\n",
       "      <td>64340</td>\n",
       "      <td>15840</td>\n",
       "      <td>74130</td>\n",
       "      <td>109720</td>\n",
       "      <td>7840</td>\n",
       "      <td>51610</td>\n",
       "      <td>23480</td>\n",
       "      <td>0</td>\n",
       "    </tr>\n",
       "    <tr>\n",
       "      <th>3</th>\n",
       "      <td>SHOP117</td>\n",
       "      <td>676</td>\n",
       "      <td>Low</td>\n",
       "      <td>2325980</td>\n",
       "      <td>614355.0</td>\n",
       "      <td>403115.0</td>\n",
       "      <td>530415.0</td>\n",
       "      <td>778095</td>\n",
       "      <td>2037</td>\n",
       "      <td>739.0</td>\n",
       "      <td>...</td>\n",
       "      <td>81750</td>\n",
       "      <td>233280</td>\n",
       "      <td>65180</td>\n",
       "      <td>10800</td>\n",
       "      <td>182620</td>\n",
       "      <td>180160</td>\n",
       "      <td>17600</td>\n",
       "      <td>47380</td>\n",
       "      <td>48450</td>\n",
       "      <td>7800</td>\n",
       "    </tr>\n",
       "    <tr>\n",
       "      <th>4</th>\n",
       "      <td>SHOP042</td>\n",
       "      <td>676</td>\n",
       "      <td>Low</td>\n",
       "      <td>1340215</td>\n",
       "      <td>390960.0</td>\n",
       "      <td>207075.0</td>\n",
       "      <td>321510.0</td>\n",
       "      <td>420670</td>\n",
       "      <td>1841</td>\n",
       "      <td>641.0</td>\n",
       "      <td>...</td>\n",
       "      <td>29400</td>\n",
       "      <td>152820</td>\n",
       "      <td>45420</td>\n",
       "      <td>3360</td>\n",
       "      <td>62120</td>\n",
       "      <td>54020</td>\n",
       "      <td>7280</td>\n",
       "      <td>30350</td>\n",
       "      <td>14860</td>\n",
       "      <td>0</td>\n",
       "    </tr>\n",
       "    <tr>\n",
       "      <th>...</th>\n",
       "      <td>...</td>\n",
       "      <td>...</td>\n",
       "      <td>...</td>\n",
       "      <td>...</td>\n",
       "      <td>...</td>\n",
       "      <td>...</td>\n",
       "      <td>...</td>\n",
       "      <td>...</td>\n",
       "      <td>...</td>\n",
       "      <td>...</td>\n",
       "      <td>...</td>\n",
       "      <td>...</td>\n",
       "      <td>...</td>\n",
       "      <td>...</td>\n",
       "      <td>...</td>\n",
       "      <td>...</td>\n",
       "      <td>...</td>\n",
       "      <td>...</td>\n",
       "      <td>...</td>\n",
       "      <td>...</td>\n",
       "      <td>...</td>\n",
       "    </tr>\n",
       "    <tr>\n",
       "      <th>119</th>\n",
       "      <td>SHOP087</td>\n",
       "      <td>527</td>\n",
       "      <td>NaN</td>\n",
       "      <td>1128935</td>\n",
       "      <td>297055.0</td>\n",
       "      <td>140540.0</td>\n",
       "      <td>360755.0</td>\n",
       "      <td>330585</td>\n",
       "      <td>1083</td>\n",
       "      <td>387.0</td>\n",
       "      <td>...</td>\n",
       "      <td>18900</td>\n",
       "      <td>61480</td>\n",
       "      <td>43680</td>\n",
       "      <td>2400</td>\n",
       "      <td>60160</td>\n",
       "      <td>54410</td>\n",
       "      <td>3840</td>\n",
       "      <td>28970</td>\n",
       "      <td>17650</td>\n",
       "      <td>0</td>\n",
       "    </tr>\n",
       "    <tr>\n",
       "      <th>120</th>\n",
       "      <td>SHOP050</td>\n",
       "      <td>411</td>\n",
       "      <td>NaN</td>\n",
       "      <td>2399125</td>\n",
       "      <td>649065.0</td>\n",
       "      <td>248730.0</td>\n",
       "      <td>518975.0</td>\n",
       "      <td>982355</td>\n",
       "      <td>1778</td>\n",
       "      <td>730.0</td>\n",
       "      <td>...</td>\n",
       "      <td>48000</td>\n",
       "      <td>154470</td>\n",
       "      <td>78440</td>\n",
       "      <td>4320</td>\n",
       "      <td>91990</td>\n",
       "      <td>178760</td>\n",
       "      <td>15760</td>\n",
       "      <td>40680</td>\n",
       "      <td>25920</td>\n",
       "      <td>6500</td>\n",
       "    </tr>\n",
       "    <tr>\n",
       "      <th>121</th>\n",
       "      <td>SHOP061</td>\n",
       "      <td>699</td>\n",
       "      <td>NaN</td>\n",
       "      <td>2106120</td>\n",
       "      <td>453755.0</td>\n",
       "      <td>209795.0</td>\n",
       "      <td>781090.0</td>\n",
       "      <td>661480</td>\n",
       "      <td>1745</td>\n",
       "      <td>609.0</td>\n",
       "      <td>...</td>\n",
       "      <td>39600</td>\n",
       "      <td>135840</td>\n",
       "      <td>61200</td>\n",
       "      <td>6240</td>\n",
       "      <td>133430</td>\n",
       "      <td>125870</td>\n",
       "      <td>7200</td>\n",
       "      <td>27100</td>\n",
       "      <td>34160</td>\n",
       "      <td>0</td>\n",
       "    </tr>\n",
       "    <tr>\n",
       "      <th>122</th>\n",
       "      <td>SHOP056</td>\n",
       "      <td>597</td>\n",
       "      <td>NaN</td>\n",
       "      <td>3018540</td>\n",
       "      <td>872410.0</td>\n",
       "      <td>575745.0</td>\n",
       "      <td>585555.0</td>\n",
       "      <td>984830</td>\n",
       "      <td>2831</td>\n",
       "      <td>1012.0</td>\n",
       "      <td>...</td>\n",
       "      <td>83550</td>\n",
       "      <td>416100</td>\n",
       "      <td>131100</td>\n",
       "      <td>8880</td>\n",
       "      <td>44320</td>\n",
       "      <td>195490</td>\n",
       "      <td>29360</td>\n",
       "      <td>58280</td>\n",
       "      <td>20250</td>\n",
       "      <td>6500</td>\n",
       "    </tr>\n",
       "    <tr>\n",
       "      <th>123</th>\n",
       "      <td>SHOP070</td>\n",
       "      <td>676</td>\n",
       "      <td>NaN</td>\n",
       "      <td>1325070</td>\n",
       "      <td>315855.0</td>\n",
       "      <td>204455.0</td>\n",
       "      <td>272500.0</td>\n",
       "      <td>532260</td>\n",
       "      <td>1423</td>\n",
       "      <td>492.0</td>\n",
       "      <td>...</td>\n",
       "      <td>48450</td>\n",
       "      <td>84680</td>\n",
       "      <td>36380</td>\n",
       "      <td>7680</td>\n",
       "      <td>45630</td>\n",
       "      <td>75160</td>\n",
       "      <td>6320</td>\n",
       "      <td>24770</td>\n",
       "      <td>12900</td>\n",
       "      <td>0</td>\n",
       "    </tr>\n",
       "  </tbody>\n",
       "</table>\n",
       "<p>124 rows × 35 columns</p>\n",
       "</div>"
      ],
      "text/plain": [
       "     shop_id  shop_area_sq_ft shop_profile  tot_sales  oct_sales  nov_1_sales  \\\n",
       "0    SHOP047              528     Moderate     838280   307505.0     147830.0   \n",
       "1    SHOP009              676         High    1966710   586745.0     290585.0   \n",
       "2    SHOP083              676          Low    1691985   556160.0     279740.0   \n",
       "3    SHOP117              676          Low    2325980   614355.0     403115.0   \n",
       "4    SHOP042              676          Low    1340215   390960.0     207075.0   \n",
       "..       ...              ...          ...        ...        ...          ...   \n",
       "119  SHOP087              527          NaN    1128935   297055.0     140540.0   \n",
       "120  SHOP050              411          NaN    2399125   649065.0     248730.0   \n",
       "121  SHOP061              699          NaN    2106120   453755.0     209795.0   \n",
       "122  SHOP056              597          NaN    3018540   872410.0     575745.0   \n",
       "123  SHOP070              676          NaN    1325070   315855.0     204455.0   \n",
       "\n",
       "     nov_2_sales  dec_sales  tot_customers  oct_customers  ...  \\\n",
       "0       191790.0     191155            928          370.0  ...   \n",
       "1       415425.0     673955           2498          898.0  ...   \n",
       "2       378780.0     477305           1900          697.0  ...   \n",
       "3       530415.0     778095           2037          739.0  ...   \n",
       "4       321510.0     420670           1841          641.0  ...   \n",
       "..           ...        ...            ...            ...  ...   \n",
       "119     360755.0     330585           1083          387.0  ...   \n",
       "120     518975.0     982355           1778          730.0  ...   \n",
       "121     781090.0     661480           1745          609.0  ...   \n",
       "122     585555.0     984830           2831         1012.0  ...   \n",
       "123     272500.0     532260           1423          492.0  ...   \n",
       "\n",
       "     CREAM SODA APPLE POP    SODA  LEMONADE  KIK COLA  SODA PET   NECTO  \\\n",
       "0                   11850   85990     15980       840     43910   34780   \n",
       "1                   45150  252180     64480      5400     37040  122600   \n",
       "2                   36750  162610     64340     15840     74130  109720   \n",
       "3                   81750  233280     65180     10800    182620  180160   \n",
       "4                   29400  152820     45420      3360     62120   54020   \n",
       "..                    ...     ...       ...       ...       ...     ...   \n",
       "119                 18900   61480     43680      2400     60160   54410   \n",
       "120                 48000  154470     78440      4320     91990  178760   \n",
       "121                 39600  135840     61200      6240    133430  125870   \n",
       "122                 83550  416100    131100      8880     44320  195490   \n",
       "123                 48450   84680     36380      7680     45630   75160   \n",
       "\n",
       "     GINGER BEER SUGAR FREE  ORANGE CRUSH  DRY GINGER ALE PET  \\\n",
       "0                      3280         37130                1760   \n",
       "1                     11120         62300               13220   \n",
       "2                      7840         51610               23480   \n",
       "3                     17600         47380               48450   \n",
       "4                      7280         30350               14860   \n",
       "..                      ...           ...                 ...   \n",
       "119                    3840         28970               17650   \n",
       "120                   15760         40680               25920   \n",
       "121                    7200         27100               34160   \n",
       "122                   29360         58280               20250   \n",
       "123                    6320         24770               12900   \n",
       "\n",
       "     LIME CRUSH JUICE  \n",
       "0                   0  \n",
       "1                   0  \n",
       "2                   0  \n",
       "3                7800  \n",
       "4                   0  \n",
       "..                ...  \n",
       "119                 0  \n",
       "120              6500  \n",
       "121                 0  \n",
       "122              6500  \n",
       "123                 0  \n",
       "\n",
       "[124 rows x 35 columns]"
      ]
     },
     "execution_count": 38,
     "metadata": {},
     "output_type": "execute_result"
    }
   ],
   "source": [
    "store_table"
   ]
  },
  {
   "cell_type": "code",
   "execution_count": 39,
   "id": "bcab9a55",
   "metadata": {
    "execution": {
     "iopub.execute_input": "2023-04-29T16:29:42.542723Z",
     "iopub.status.busy": "2023-04-29T16:29:42.542162Z",
     "iopub.status.idle": "2023-04-29T16:29:42.656404Z",
     "shell.execute_reply": "2023-04-29T16:29:42.655163Z",
     "shell.execute_reply.started": "2023-04-29T16:29:42.542683Z"
    },
    "papermill": {
     "duration": 0.130795,
     "end_time": "2023-04-27T09:25:31.762352",
     "exception": false,
     "start_time": "2023-04-27T09:25:31.631557",
     "status": "completed"
    },
    "tags": []
   },
   "outputs": [],
   "source": [
    "milk_sale_data = pd.Series(table['beverage_description'].isin(milk_drinks))\n",
    "milk_sales = pd.DataFrame(table.loc[milk_sale_data].groupby('shop_id',sort=False)['amount'].sum(), index=all_shop_index)\n",
    "store_table = add_new_feature(store_table, 'milk_sales', milk_sales)"
   ]
  },
  {
   "cell_type": "code",
   "execution_count": 40,
   "id": "bdf9c297",
   "metadata": {
    "execution": {
     "iopub.execute_input": "2023-04-29T16:29:42.658824Z",
     "iopub.status.busy": "2023-04-29T16:29:42.658157Z",
     "iopub.status.idle": "2023-04-29T16:29:42.847721Z",
     "shell.execute_reply": "2023-04-29T16:29:42.846527Z",
     "shell.execute_reply.started": "2023-04-29T16:29:42.658781Z"
    },
    "papermill": {
     "duration": 0.192283,
     "end_time": "2023-04-27T09:25:31.979998",
     "exception": false,
     "start_time": "2023-04-27T09:25:31.787715",
     "status": "completed"
    },
    "tags": []
   },
   "outputs": [],
   "source": [
    "soft_d_sale_data = pd.Series(table['beverage_description'].isin(soft_drinks))\n",
    "soft_d_sales = pd.DataFrame(table.loc[soft_d_sale_data].groupby('shop_id',sort=False)['amount'].sum(), index=all_shop_index)\n",
    "store_table = add_new_feature(store_table, 'soft_d_sales', soft_d_sales)"
   ]
  },
  {
   "cell_type": "code",
   "execution_count": 41,
   "id": "1b23048c",
   "metadata": {
    "execution": {
     "iopub.execute_input": "2023-04-29T16:29:42.850276Z",
     "iopub.status.busy": "2023-04-29T16:29:42.849115Z",
     "iopub.status.idle": "2023-04-29T16:29:42.957294Z",
     "shell.execute_reply": "2023-04-29T16:29:42.955873Z",
     "shell.execute_reply.started": "2023-04-29T16:29:42.850225Z"
    },
    "papermill": {
     "duration": 0.120876,
     "end_time": "2023-04-27T09:25:32.123565",
     "exception": false,
     "start_time": "2023-04-27T09:25:32.002689",
     "status": "completed"
    },
    "tags": []
   },
   "outputs": [],
   "source": [
    "water_sale_data = pd.Series(table['beverage_description'].isin(water))\n",
    "water_sales = pd.DataFrame(table.loc[water_sale_data].groupby('shop_id',sort=False)['amount'].sum(), index=all_shop_index)\n",
    "store_table = add_new_feature(store_table, 'water_sales', water_sales)"
   ]
  },
  {
   "cell_type": "code",
   "execution_count": 42,
   "id": "ac4c484c",
   "metadata": {
    "execution": {
     "iopub.execute_input": "2023-04-29T16:29:42.959114Z",
     "iopub.status.busy": "2023-04-29T16:29:42.958749Z",
     "iopub.status.idle": "2023-04-29T16:29:43.076702Z",
     "shell.execute_reply": "2023-04-29T16:29:43.075369Z",
     "shell.execute_reply.started": "2023-04-29T16:29:42.959073Z"
    },
    "papermill": {
     "duration": 0.125067,
     "end_time": "2023-04-27T09:25:32.273915",
     "exception": false,
     "start_time": "2023-04-27T09:25:32.148848",
     "status": "completed"
    },
    "tags": []
   },
   "outputs": [],
   "source": [
    "fruit_d_sale_data = pd.Series(table['beverage_description'].isin(fruit_drinks))\n",
    "fruit_d_sales = pd.DataFrame(table.loc[fruit_d_sale_data].groupby('shop_id',sort=False)['amount'].sum(), index=all_shop_index)\n",
    "store_table = add_new_feature(store_table, 'fruit_d_sales', fruit_d_sales)"
   ]
  },
  {
   "cell_type": "code",
   "execution_count": 43,
   "id": "fa543f19",
   "metadata": {
    "execution": {
     "iopub.execute_input": "2023-04-29T16:29:43.078776Z",
     "iopub.status.busy": "2023-04-29T16:29:43.078293Z",
     "iopub.status.idle": "2023-04-29T16:29:43.359748Z",
     "shell.execute_reply": "2023-04-29T16:29:43.358294Z",
     "shell.execute_reply.started": "2023-04-29T16:29:43.078741Z"
    },
    "papermill": {
     "duration": 0.300953,
     "end_time": "2023-04-27T09:25:32.597721",
     "exception": false,
     "start_time": "2023-04-27T09:25:32.296768",
     "status": "completed"
    },
    "tags": []
   },
   "outputs": [],
   "source": [
    "invoice_data = pd.DataFrame(table.groupby(['shop_id','invoice_id'])['amount'].sum(),)\n",
    "avg_bill_value = pd.DataFrame(invoice_data.groupby('shop_id')['amount'].mean().round(2))\n",
    "store_table = add_new_feature(store_table, 'avg_bill_value', avg_bill_value)"
   ]
  },
  {
   "cell_type": "code",
   "execution_count": 44,
   "id": "b6ff6f6c",
   "metadata": {
    "execution": {
     "iopub.execute_input": "2023-04-29T16:29:43.361519Z",
     "iopub.status.busy": "2023-04-29T16:29:43.361162Z",
     "iopub.status.idle": "2023-04-29T16:29:43.464681Z",
     "shell.execute_reply": "2023-04-29T16:29:43.462961Z",
     "shell.execute_reply.started": "2023-04-29T16:29:43.361485Z"
    },
    "papermill": {
     "duration": 0.12788,
     "end_time": "2023-04-27T09:25:32.748364",
     "exception": false,
     "start_time": "2023-04-27T09:25:32.620484",
     "status": "completed"
    },
    "tags": []
   },
   "outputs": [],
   "source": [
    "weekday_avg_sales = table.groupby(['weekday','shop_id'])['amount'].sum()\n",
    "saturday_avg_sales = pd.DataFrame(weekday_avg_sales[5])\n",
    "sunday_avg_sales = pd.DataFrame(weekday_avg_sales[6])\n",
    "weekend_avg_sales = pd.DataFrame(round((saturday_avg_sales['amount'] + sunday_avg_sales['amount'])/18,2))\n",
    "store_table = add_new_feature(store_table, 'weekend_avg_sales', weekend_avg_sales)"
   ]
  },
  {
   "cell_type": "code",
   "execution_count": 45,
   "id": "392bff43",
   "metadata": {
    "execution": {
     "iopub.execute_input": "2023-04-29T16:29:43.467193Z",
     "iopub.status.busy": "2023-04-29T16:29:43.466812Z",
     "iopub.status.idle": "2023-04-29T16:29:43.745846Z",
     "shell.execute_reply": "2023-04-29T16:29:43.744290Z",
     "shell.execute_reply.started": "2023-04-29T16:29:43.467126Z"
    },
    "papermill": {
     "duration": 0.306142,
     "end_time": "2023-04-27T09:25:33.077406",
     "exception": false,
     "start_time": "2023-04-27T09:25:32.771264",
     "status": "completed"
    },
    "tags": []
   },
   "outputs": [],
   "source": [
    "customer_per_day = pd.DataFrame(table.groupby(['shop_id','month','date'])['customer_id'].nunique())\n",
    "customer_per_day = pd.DataFrame(customer_per_day.groupby('shop_id')['customer_id'].mean().round(0)).astype(int)\n",
    "store_table = add_new_feature(store_table, 'customer_per_day', customer_per_day)"
   ]
  },
  {
   "cell_type": "code",
   "execution_count": 46,
   "id": "51516b6a",
   "metadata": {
    "execution": {
     "iopub.execute_input": "2023-04-29T16:29:43.748061Z",
     "iopub.status.busy": "2023-04-29T16:29:43.747720Z",
     "iopub.status.idle": "2023-04-29T16:29:43.975158Z",
     "shell.execute_reply": "2023-04-29T16:29:43.973824Z",
     "shell.execute_reply.started": "2023-04-29T16:29:43.748028Z"
    },
    "papermill": {
     "duration": 0.212466,
     "end_time": "2023-04-27T09:25:33.313345",
     "exception": false,
     "start_time": "2023-04-27T09:25:33.100879",
     "status": "completed"
    },
    "tags": []
   },
   "outputs": [],
   "source": [
    "tot_orders = pd.DataFrame(table.groupby(['shop_id','month','date'])['invoice_id'].nunique())\n",
    "tot_orders = pd.DataFrame(tot_orders.groupby('shop_id')['invoice_id'].sum().round(0)).astype(int)\n",
    "store_table = add_new_feature(store_table,'tot_orders',tot_orders)"
   ]
  },
  {
   "cell_type": "code",
   "execution_count": 60,
   "id": "b058a17b",
   "metadata": {
    "execution": {
     "iopub.execute_input": "2023-04-29T16:30:29.905008Z",
     "iopub.status.busy": "2023-04-29T16:30:29.904595Z",
     "iopub.status.idle": "2023-04-29T16:30:30.913541Z",
     "shell.execute_reply": "2023-04-29T16:30:30.912024Z",
     "shell.execute_reply.started": "2023-04-29T16:30:29.904972Z"
    }
   },
   "outputs": [],
   "source": [
    "items_per_bill = table.groupby(['shop_id','invoice_id','customer_id'])['quantity_sold'].sum()\n",
    "max_items_bill = items_per_bill.groupby(['shop_id']).max()\n",
    "store_table['max_items_bill'] = 0\n",
    "i=0\n",
    "for idx in store_table.shop_id:\n",
    "    store_table.loc[i, 'max_items_bill'] = max_items_bill.loc[idx]\n",
    "    i+=1\n",
    "    \n",
    "bulk_item_customers = pd.DataFrame(items_per_bill.loc[items_per_bill > 30].groupby('shop_id').count(), index=all_shop_index)\n",
    "bulk_item_customers = bulk_item_customers.fillna(0)\n",
    "store_table = add_new_feature(store_table, 'bulk_item_customers', bulk_item_customers)"
   ]
  },
  {
   "cell_type": "code",
   "execution_count": 47,
   "id": "0669d313",
   "metadata": {
    "execution": {
     "iopub.execute_input": "2023-04-29T16:29:43.977392Z",
     "iopub.status.busy": "2023-04-29T16:29:43.976849Z",
     "iopub.status.idle": "2023-04-29T16:29:44.023762Z",
     "shell.execute_reply": "2023-04-29T16:29:44.022781Z",
     "shell.execute_reply.started": "2023-04-29T16:29:43.977336Z"
    },
    "papermill": {
     "duration": 0.068316,
     "end_time": "2023-04-27T09:25:33.404965",
     "exception": false,
     "start_time": "2023-04-27T09:25:33.336649",
     "status": "completed"
    },
    "tags": []
   },
   "outputs": [
    {
     "data": {
      "text/html": [
       "<div>\n",
       "<style scoped>\n",
       "    .dataframe tbody tr th:only-of-type {\n",
       "        vertical-align: middle;\n",
       "    }\n",
       "\n",
       "    .dataframe tbody tr th {\n",
       "        vertical-align: top;\n",
       "    }\n",
       "\n",
       "    .dataframe thead th {\n",
       "        text-align: right;\n",
       "    }\n",
       "</style>\n",
       "<table border=\"1\" class=\"dataframe\">\n",
       "  <thead>\n",
       "    <tr style=\"text-align: right;\">\n",
       "      <th></th>\n",
       "      <th>shop_id</th>\n",
       "      <th>shop_area_sq_ft</th>\n",
       "      <th>shop_profile</th>\n",
       "      <th>tot_sales</th>\n",
       "      <th>oct_sales</th>\n",
       "      <th>nov_1_sales</th>\n",
       "      <th>nov_2_sales</th>\n",
       "      <th>dec_sales</th>\n",
       "      <th>tot_customers</th>\n",
       "      <th>oct_customers</th>\n",
       "      <th>...</th>\n",
       "      <th>DRY GINGER ALE PET</th>\n",
       "      <th>LIME CRUSH JUICE</th>\n",
       "      <th>milk_sales</th>\n",
       "      <th>soft_d_sales</th>\n",
       "      <th>water_sales</th>\n",
       "      <th>fruit_d_sales</th>\n",
       "      <th>avg_bill_value</th>\n",
       "      <th>weekend_avg_sales</th>\n",
       "      <th>customer_per_day</th>\n",
       "      <th>tot_orders</th>\n",
       "    </tr>\n",
       "  </thead>\n",
       "  <tbody>\n",
       "    <tr>\n",
       "      <th>100</th>\n",
       "      <td>SHOP046</td>\n",
       "      <td>545</td>\n",
       "      <td>NaN</td>\n",
       "      <td>2607865</td>\n",
       "      <td>556485.0</td>\n",
       "      <td>291355.0</td>\n",
       "      <td>879035.0</td>\n",
       "      <td>880990</td>\n",
       "      <td>1736</td>\n",
       "      <td>679.0</td>\n",
       "      <td>...</td>\n",
       "      <td>28410</td>\n",
       "      <td>0</td>\n",
       "      <td>34640</td>\n",
       "      <td>1743320</td>\n",
       "      <td>578515</td>\n",
       "      <td>251390</td>\n",
       "      <td>944.54</td>\n",
       "      <td>32302.22</td>\n",
       "      <td>44</td>\n",
       "      <td>2761</td>\n",
       "    </tr>\n",
       "    <tr>\n",
       "      <th>101</th>\n",
       "      <td>SHOP024</td>\n",
       "      <td>676</td>\n",
       "      <td>NaN</td>\n",
       "      <td>1308795</td>\n",
       "      <td>335055.0</td>\n",
       "      <td>275830.0</td>\n",
       "      <td>325445.0</td>\n",
       "      <td>372465</td>\n",
       "      <td>1641</td>\n",
       "      <td>575.0</td>\n",
       "      <td>...</td>\n",
       "      <td>17370</td>\n",
       "      <td>0</td>\n",
       "      <td>22880</td>\n",
       "      <td>1075760</td>\n",
       "      <td>63525</td>\n",
       "      <td>146630</td>\n",
       "      <td>565.35</td>\n",
       "      <td>22019.72</td>\n",
       "      <td>37</td>\n",
       "      <td>2315</td>\n",
       "    </tr>\n",
       "    <tr>\n",
       "      <th>102</th>\n",
       "      <td>SHOP023</td>\n",
       "      <td>617</td>\n",
       "      <td>NaN</td>\n",
       "      <td>2553330</td>\n",
       "      <td>916485.0</td>\n",
       "      <td>445670.0</td>\n",
       "      <td>544750.0</td>\n",
       "      <td>646425</td>\n",
       "      <td>2227</td>\n",
       "      <td>799.0</td>\n",
       "      <td>...</td>\n",
       "      <td>24980</td>\n",
       "      <td>0</td>\n",
       "      <td>65750</td>\n",
       "      <td>1759360</td>\n",
       "      <td>185710</td>\n",
       "      <td>542510</td>\n",
       "      <td>802.68</td>\n",
       "      <td>50219.17</td>\n",
       "      <td>51</td>\n",
       "      <td>3181</td>\n",
       "    </tr>\n",
       "    <tr>\n",
       "      <th>103</th>\n",
       "      <td>SHOP097</td>\n",
       "      <td>310</td>\n",
       "      <td>NaN</td>\n",
       "      <td>2375735</td>\n",
       "      <td>610460.0</td>\n",
       "      <td>580165.0</td>\n",
       "      <td>477535.0</td>\n",
       "      <td>707575</td>\n",
       "      <td>1667</td>\n",
       "      <td>600.0</td>\n",
       "      <td>...</td>\n",
       "      <td>90670</td>\n",
       "      <td>0</td>\n",
       "      <td>221930</td>\n",
       "      <td>1660760</td>\n",
       "      <td>160895</td>\n",
       "      <td>332150</td>\n",
       "      <td>962.23</td>\n",
       "      <td>38967.78</td>\n",
       "      <td>40</td>\n",
       "      <td>2469</td>\n",
       "    </tr>\n",
       "    <tr>\n",
       "      <th>104</th>\n",
       "      <td>SHOP044</td>\n",
       "      <td>715</td>\n",
       "      <td>NaN</td>\n",
       "      <td>1251090</td>\n",
       "      <td>348525.0</td>\n",
       "      <td>184870.0</td>\n",
       "      <td>299685.0</td>\n",
       "      <td>418010</td>\n",
       "      <td>1550</td>\n",
       "      <td>546.0</td>\n",
       "      <td>...</td>\n",
       "      <td>34310</td>\n",
       "      <td>0</td>\n",
       "      <td>37190</td>\n",
       "      <td>1087740</td>\n",
       "      <td>9870</td>\n",
       "      <td>116290</td>\n",
       "      <td>598.89</td>\n",
       "      <td>28303.06</td>\n",
       "      <td>34</td>\n",
       "      <td>2089</td>\n",
       "    </tr>\n",
       "    <tr>\n",
       "      <th>105</th>\n",
       "      <td>SHOP030</td>\n",
       "      <td>530</td>\n",
       "      <td>NaN</td>\n",
       "      <td>2754185</td>\n",
       "      <td>1003750.0</td>\n",
       "      <td>343845.0</td>\n",
       "      <td>539280.0</td>\n",
       "      <td>867310</td>\n",
       "      <td>1636</td>\n",
       "      <td>696.0</td>\n",
       "      <td>...</td>\n",
       "      <td>27690</td>\n",
       "      <td>14300</td>\n",
       "      <td>75365</td>\n",
       "      <td>1963090</td>\n",
       "      <td>347690</td>\n",
       "      <td>368040</td>\n",
       "      <td>989.65</td>\n",
       "      <td>41864.72</td>\n",
       "      <td>44</td>\n",
       "      <td>2783</td>\n",
       "    </tr>\n",
       "    <tr>\n",
       "      <th>106</th>\n",
       "      <td>SHOP038</td>\n",
       "      <td>411</td>\n",
       "      <td>NaN</td>\n",
       "      <td>1444025</td>\n",
       "      <td>407920.0</td>\n",
       "      <td>207175.0</td>\n",
       "      <td>295035.0</td>\n",
       "      <td>533895</td>\n",
       "      <td>1781</td>\n",
       "      <td>681.0</td>\n",
       "      <td>...</td>\n",
       "      <td>12920</td>\n",
       "      <td>0</td>\n",
       "      <td>27950</td>\n",
       "      <td>1104080</td>\n",
       "      <td>98035</td>\n",
       "      <td>213960</td>\n",
       "      <td>553.48</td>\n",
       "      <td>30876.94</td>\n",
       "      <td>42</td>\n",
       "      <td>2609</td>\n",
       "    </tr>\n",
       "    <tr>\n",
       "      <th>107</th>\n",
       "      <td>SHOP029</td>\n",
       "      <td>597</td>\n",
       "      <td>NaN</td>\n",
       "      <td>1962105</td>\n",
       "      <td>489030.0</td>\n",
       "      <td>323595.0</td>\n",
       "      <td>534205.0</td>\n",
       "      <td>615275</td>\n",
       "      <td>2052</td>\n",
       "      <td>601.0</td>\n",
       "      <td>...</td>\n",
       "      <td>31190</td>\n",
       "      <td>0</td>\n",
       "      <td>55100</td>\n",
       "      <td>1363780</td>\n",
       "      <td>203245</td>\n",
       "      <td>339980</td>\n",
       "      <td>674.96</td>\n",
       "      <td>46140.28</td>\n",
       "      <td>47</td>\n",
       "      <td>2907</td>\n",
       "    </tr>\n",
       "    <tr>\n",
       "      <th>108</th>\n",
       "      <td>SHOP096</td>\n",
       "      <td>676</td>\n",
       "      <td>NaN</td>\n",
       "      <td>2600915</td>\n",
       "      <td>681745.0</td>\n",
       "      <td>372665.0</td>\n",
       "      <td>653965.0</td>\n",
       "      <td>892540</td>\n",
       "      <td>2497</td>\n",
       "      <td>911.0</td>\n",
       "      <td>...</td>\n",
       "      <td>29870</td>\n",
       "      <td>0</td>\n",
       "      <td>29175</td>\n",
       "      <td>2190780</td>\n",
       "      <td>105350</td>\n",
       "      <td>275610</td>\n",
       "      <td>692.84</td>\n",
       "      <td>48126.39</td>\n",
       "      <td>60</td>\n",
       "      <td>3754</td>\n",
       "    </tr>\n",
       "    <tr>\n",
       "      <th>109</th>\n",
       "      <td>SHOP092</td>\n",
       "      <td>617</td>\n",
       "      <td>NaN</td>\n",
       "      <td>1961240</td>\n",
       "      <td>504345.0</td>\n",
       "      <td>334230.0</td>\n",
       "      <td>634050.0</td>\n",
       "      <td>488615</td>\n",
       "      <td>2247</td>\n",
       "      <td>786.0</td>\n",
       "      <td>...</td>\n",
       "      <td>21910</td>\n",
       "      <td>0</td>\n",
       "      <td>51300</td>\n",
       "      <td>1375610</td>\n",
       "      <td>51870</td>\n",
       "      <td>482460</td>\n",
       "      <td>661.24</td>\n",
       "      <td>35130.83</td>\n",
       "      <td>48</td>\n",
       "      <td>2966</td>\n",
       "    </tr>\n",
       "    <tr>\n",
       "      <th>110</th>\n",
       "      <td>SHOP081</td>\n",
       "      <td>774</td>\n",
       "      <td>NaN</td>\n",
       "      <td>2059140</td>\n",
       "      <td>810995.0</td>\n",
       "      <td>350675.0</td>\n",
       "      <td>351690.0</td>\n",
       "      <td>545780</td>\n",
       "      <td>1985</td>\n",
       "      <td>615.0</td>\n",
       "      <td>...</td>\n",
       "      <td>31360</td>\n",
       "      <td>0</td>\n",
       "      <td>68705</td>\n",
       "      <td>1165700</td>\n",
       "      <td>519855</td>\n",
       "      <td>304880</td>\n",
       "      <td>824.98</td>\n",
       "      <td>55933.06</td>\n",
       "      <td>40</td>\n",
       "      <td>2496</td>\n",
       "    </tr>\n",
       "    <tr>\n",
       "      <th>111</th>\n",
       "      <td>SHOP076</td>\n",
       "      <td>676</td>\n",
       "      <td>NaN</td>\n",
       "      <td>2115295</td>\n",
       "      <td>552450.0</td>\n",
       "      <td>514075.0</td>\n",
       "      <td>456455.0</td>\n",
       "      <td>592315</td>\n",
       "      <td>1992</td>\n",
       "      <td>697.0</td>\n",
       "      <td>...</td>\n",
       "      <td>14940</td>\n",
       "      <td>0</td>\n",
       "      <td>70305</td>\n",
       "      <td>1647180</td>\n",
       "      <td>155050</td>\n",
       "      <td>242760</td>\n",
       "      <td>720.96</td>\n",
       "      <td>40559.72</td>\n",
       "      <td>47</td>\n",
       "      <td>2934</td>\n",
       "    </tr>\n",
       "    <tr>\n",
       "      <th>112</th>\n",
       "      <td>SHOP080</td>\n",
       "      <td>554</td>\n",
       "      <td>NaN</td>\n",
       "      <td>1322790</td>\n",
       "      <td>308040.0</td>\n",
       "      <td>160545.0</td>\n",
       "      <td>298430.0</td>\n",
       "      <td>555775</td>\n",
       "      <td>1268</td>\n",
       "      <td>457.0</td>\n",
       "      <td>...</td>\n",
       "      <td>2560</td>\n",
       "      <td>0</td>\n",
       "      <td>29465</td>\n",
       "      <td>1128300</td>\n",
       "      <td>32515</td>\n",
       "      <td>132510</td>\n",
       "      <td>720.08</td>\n",
       "      <td>31851.11</td>\n",
       "      <td>29</td>\n",
       "      <td>1837</td>\n",
       "    </tr>\n",
       "    <tr>\n",
       "      <th>113</th>\n",
       "      <td>SHOP074</td>\n",
       "      <td>617</td>\n",
       "      <td>NaN</td>\n",
       "      <td>2579340</td>\n",
       "      <td>765925.0</td>\n",
       "      <td>515930.0</td>\n",
       "      <td>521835.0</td>\n",
       "      <td>775650</td>\n",
       "      <td>2737</td>\n",
       "      <td>986.0</td>\n",
       "      <td>...</td>\n",
       "      <td>37350</td>\n",
       "      <td>0</td>\n",
       "      <td>36935</td>\n",
       "      <td>1969560</td>\n",
       "      <td>158585</td>\n",
       "      <td>414260</td>\n",
       "      <td>659.85</td>\n",
       "      <td>57197.50</td>\n",
       "      <td>63</td>\n",
       "      <td>3909</td>\n",
       "    </tr>\n",
       "    <tr>\n",
       "      <th>114</th>\n",
       "      <td>SHOP107</td>\n",
       "      <td>588</td>\n",
       "      <td>NaN</td>\n",
       "      <td>2524495</td>\n",
       "      <td>729255.0</td>\n",
       "      <td>829270.0</td>\n",
       "      <td>283605.0</td>\n",
       "      <td>682365</td>\n",
       "      <td>921</td>\n",
       "      <td>298.0</td>\n",
       "      <td>...</td>\n",
       "      <td>15200</td>\n",
       "      <td>6500</td>\n",
       "      <td>162010</td>\n",
       "      <td>1096090</td>\n",
       "      <td>921095</td>\n",
       "      <td>345300</td>\n",
       "      <td>1646.77</td>\n",
       "      <td>70305.56</td>\n",
       "      <td>24</td>\n",
       "      <td>1533</td>\n",
       "    </tr>\n",
       "    <tr>\n",
       "      <th>115</th>\n",
       "      <td>SHOP108</td>\n",
       "      <td>676</td>\n",
       "      <td>NaN</td>\n",
       "      <td>2096035</td>\n",
       "      <td>629985.0</td>\n",
       "      <td>335110.0</td>\n",
       "      <td>342680.0</td>\n",
       "      <td>788260</td>\n",
       "      <td>2077</td>\n",
       "      <td>817.0</td>\n",
       "      <td>...</td>\n",
       "      <td>30020</td>\n",
       "      <td>0</td>\n",
       "      <td>32630</td>\n",
       "      <td>1639030</td>\n",
       "      <td>265405</td>\n",
       "      <td>158970</td>\n",
       "      <td>669.87</td>\n",
       "      <td>35779.44</td>\n",
       "      <td>50</td>\n",
       "      <td>3129</td>\n",
       "    </tr>\n",
       "    <tr>\n",
       "      <th>116</th>\n",
       "      <td>SHOP019</td>\n",
       "      <td>411</td>\n",
       "      <td>NaN</td>\n",
       "      <td>2200580</td>\n",
       "      <td>572615.0</td>\n",
       "      <td>260580.0</td>\n",
       "      <td>638965.0</td>\n",
       "      <td>728420</td>\n",
       "      <td>1922</td>\n",
       "      <td>771.0</td>\n",
       "      <td>...</td>\n",
       "      <td>10230</td>\n",
       "      <td>6500</td>\n",
       "      <td>23940</td>\n",
       "      <td>1844010</td>\n",
       "      <td>38990</td>\n",
       "      <td>293640</td>\n",
       "      <td>720.79</td>\n",
       "      <td>43035.00</td>\n",
       "      <td>49</td>\n",
       "      <td>3053</td>\n",
       "    </tr>\n",
       "    <tr>\n",
       "      <th>117</th>\n",
       "      <td>SHOP002</td>\n",
       "      <td>637</td>\n",
       "      <td>NaN</td>\n",
       "      <td>3069830</td>\n",
       "      <td>740590.0</td>\n",
       "      <td>457720.0</td>\n",
       "      <td>770500.0</td>\n",
       "      <td>1101020</td>\n",
       "      <td>2577</td>\n",
       "      <td>890.0</td>\n",
       "      <td>...</td>\n",
       "      <td>25170</td>\n",
       "      <td>27950</td>\n",
       "      <td>40475</td>\n",
       "      <td>2551350</td>\n",
       "      <td>203665</td>\n",
       "      <td>274340</td>\n",
       "      <td>809.55</td>\n",
       "      <td>54402.22</td>\n",
       "      <td>60</td>\n",
       "      <td>3792</td>\n",
       "    </tr>\n",
       "    <tr>\n",
       "      <th>118</th>\n",
       "      <td>SHOP114</td>\n",
       "      <td>513</td>\n",
       "      <td>NaN</td>\n",
       "      <td>2131345</td>\n",
       "      <td>549780.0</td>\n",
       "      <td>365670.0</td>\n",
       "      <td>679055.0</td>\n",
       "      <td>536840</td>\n",
       "      <td>2480</td>\n",
       "      <td>865.0</td>\n",
       "      <td>...</td>\n",
       "      <td>22570</td>\n",
       "      <td>6500</td>\n",
       "      <td>46415</td>\n",
       "      <td>1353380</td>\n",
       "      <td>156240</td>\n",
       "      <td>575310</td>\n",
       "      <td>635.65</td>\n",
       "      <td>46783.06</td>\n",
       "      <td>54</td>\n",
       "      <td>3353</td>\n",
       "    </tr>\n",
       "    <tr>\n",
       "      <th>119</th>\n",
       "      <td>SHOP087</td>\n",
       "      <td>527</td>\n",
       "      <td>NaN</td>\n",
       "      <td>1128935</td>\n",
       "      <td>297055.0</td>\n",
       "      <td>140540.0</td>\n",
       "      <td>360755.0</td>\n",
       "      <td>330585</td>\n",
       "      <td>1083</td>\n",
       "      <td>387.0</td>\n",
       "      <td>...</td>\n",
       "      <td>17650</td>\n",
       "      <td>0</td>\n",
       "      <td>21590</td>\n",
       "      <td>976190</td>\n",
       "      <td>28945</td>\n",
       "      <td>102210</td>\n",
       "      <td>742.72</td>\n",
       "      <td>18116.11</td>\n",
       "      <td>24</td>\n",
       "      <td>1520</td>\n",
       "    </tr>\n",
       "    <tr>\n",
       "      <th>120</th>\n",
       "      <td>SHOP050</td>\n",
       "      <td>411</td>\n",
       "      <td>NaN</td>\n",
       "      <td>2399125</td>\n",
       "      <td>649065.0</td>\n",
       "      <td>248730.0</td>\n",
       "      <td>518975.0</td>\n",
       "      <td>982355</td>\n",
       "      <td>1778</td>\n",
       "      <td>730.0</td>\n",
       "      <td>...</td>\n",
       "      <td>25920</td>\n",
       "      <td>6500</td>\n",
       "      <td>44745</td>\n",
       "      <td>1940000</td>\n",
       "      <td>69090</td>\n",
       "      <td>345290</td>\n",
       "      <td>754.44</td>\n",
       "      <td>40565.28</td>\n",
       "      <td>51</td>\n",
       "      <td>3180</td>\n",
       "    </tr>\n",
       "    <tr>\n",
       "      <th>121</th>\n",
       "      <td>SHOP061</td>\n",
       "      <td>699</td>\n",
       "      <td>NaN</td>\n",
       "      <td>2106120</td>\n",
       "      <td>453755.0</td>\n",
       "      <td>209795.0</td>\n",
       "      <td>781090.0</td>\n",
       "      <td>661480</td>\n",
       "      <td>1745</td>\n",
       "      <td>609.0</td>\n",
       "      <td>...</td>\n",
       "      <td>34160</td>\n",
       "      <td>0</td>\n",
       "      <td>39445</td>\n",
       "      <td>1328930</td>\n",
       "      <td>179585</td>\n",
       "      <td>558160</td>\n",
       "      <td>886.41</td>\n",
       "      <td>60756.39</td>\n",
       "      <td>38</td>\n",
       "      <td>2376</td>\n",
       "    </tr>\n",
       "    <tr>\n",
       "      <th>122</th>\n",
       "      <td>SHOP056</td>\n",
       "      <td>597</td>\n",
       "      <td>NaN</td>\n",
       "      <td>3018540</td>\n",
       "      <td>872410.0</td>\n",
       "      <td>575745.0</td>\n",
       "      <td>585555.0</td>\n",
       "      <td>984830</td>\n",
       "      <td>2831</td>\n",
       "      <td>1012.0</td>\n",
       "      <td>...</td>\n",
       "      <td>20250</td>\n",
       "      <td>6500</td>\n",
       "      <td>56750</td>\n",
       "      <td>2199480</td>\n",
       "      <td>165410</td>\n",
       "      <td>596900</td>\n",
       "      <td>686.03</td>\n",
       "      <td>58602.50</td>\n",
       "      <td>71</td>\n",
       "      <td>4400</td>\n",
       "    </tr>\n",
       "    <tr>\n",
       "      <th>123</th>\n",
       "      <td>SHOP070</td>\n",
       "      <td>676</td>\n",
       "      <td>NaN</td>\n",
       "      <td>1325070</td>\n",
       "      <td>315855.0</td>\n",
       "      <td>204455.0</td>\n",
       "      <td>272500.0</td>\n",
       "      <td>532260</td>\n",
       "      <td>1423</td>\n",
       "      <td>492.0</td>\n",
       "      <td>...</td>\n",
       "      <td>12900</td>\n",
       "      <td>0</td>\n",
       "      <td>93255</td>\n",
       "      <td>1049980</td>\n",
       "      <td>16415</td>\n",
       "      <td>165420</td>\n",
       "      <td>618.32</td>\n",
       "      <td>23948.89</td>\n",
       "      <td>34</td>\n",
       "      <td>2143</td>\n",
       "    </tr>\n",
       "  </tbody>\n",
       "</table>\n",
       "<p>24 rows × 43 columns</p>\n",
       "</div>"
      ],
      "text/plain": [
       "     shop_id  shop_area_sq_ft shop_profile  tot_sales  oct_sales  nov_1_sales  \\\n",
       "100  SHOP046              545          NaN    2607865   556485.0     291355.0   \n",
       "101  SHOP024              676          NaN    1308795   335055.0     275830.0   \n",
       "102  SHOP023              617          NaN    2553330   916485.0     445670.0   \n",
       "103  SHOP097              310          NaN    2375735   610460.0     580165.0   \n",
       "104  SHOP044              715          NaN    1251090   348525.0     184870.0   \n",
       "105  SHOP030              530          NaN    2754185  1003750.0     343845.0   \n",
       "106  SHOP038              411          NaN    1444025   407920.0     207175.0   \n",
       "107  SHOP029              597          NaN    1962105   489030.0     323595.0   \n",
       "108  SHOP096              676          NaN    2600915   681745.0     372665.0   \n",
       "109  SHOP092              617          NaN    1961240   504345.0     334230.0   \n",
       "110  SHOP081              774          NaN    2059140   810995.0     350675.0   \n",
       "111  SHOP076              676          NaN    2115295   552450.0     514075.0   \n",
       "112  SHOP080              554          NaN    1322790   308040.0     160545.0   \n",
       "113  SHOP074              617          NaN    2579340   765925.0     515930.0   \n",
       "114  SHOP107              588          NaN    2524495   729255.0     829270.0   \n",
       "115  SHOP108              676          NaN    2096035   629985.0     335110.0   \n",
       "116  SHOP019              411          NaN    2200580   572615.0     260580.0   \n",
       "117  SHOP002              637          NaN    3069830   740590.0     457720.0   \n",
       "118  SHOP114              513          NaN    2131345   549780.0     365670.0   \n",
       "119  SHOP087              527          NaN    1128935   297055.0     140540.0   \n",
       "120  SHOP050              411          NaN    2399125   649065.0     248730.0   \n",
       "121  SHOP061              699          NaN    2106120   453755.0     209795.0   \n",
       "122  SHOP056              597          NaN    3018540   872410.0     575745.0   \n",
       "123  SHOP070              676          NaN    1325070   315855.0     204455.0   \n",
       "\n",
       "     nov_2_sales  dec_sales  tot_customers  oct_customers  ...  \\\n",
       "100     879035.0     880990           1736          679.0  ...   \n",
       "101     325445.0     372465           1641          575.0  ...   \n",
       "102     544750.0     646425           2227          799.0  ...   \n",
       "103     477535.0     707575           1667          600.0  ...   \n",
       "104     299685.0     418010           1550          546.0  ...   \n",
       "105     539280.0     867310           1636          696.0  ...   \n",
       "106     295035.0     533895           1781          681.0  ...   \n",
       "107     534205.0     615275           2052          601.0  ...   \n",
       "108     653965.0     892540           2497          911.0  ...   \n",
       "109     634050.0     488615           2247          786.0  ...   \n",
       "110     351690.0     545780           1985          615.0  ...   \n",
       "111     456455.0     592315           1992          697.0  ...   \n",
       "112     298430.0     555775           1268          457.0  ...   \n",
       "113     521835.0     775650           2737          986.0  ...   \n",
       "114     283605.0     682365            921          298.0  ...   \n",
       "115     342680.0     788260           2077          817.0  ...   \n",
       "116     638965.0     728420           1922          771.0  ...   \n",
       "117     770500.0    1101020           2577          890.0  ...   \n",
       "118     679055.0     536840           2480          865.0  ...   \n",
       "119     360755.0     330585           1083          387.0  ...   \n",
       "120     518975.0     982355           1778          730.0  ...   \n",
       "121     781090.0     661480           1745          609.0  ...   \n",
       "122     585555.0     984830           2831         1012.0  ...   \n",
       "123     272500.0     532260           1423          492.0  ...   \n",
       "\n",
       "     DRY GINGER ALE PET  LIME CRUSH JUICE  milk_sales  soft_d_sales  \\\n",
       "100               28410                 0       34640       1743320   \n",
       "101               17370                 0       22880       1075760   \n",
       "102               24980                 0       65750       1759360   \n",
       "103               90670                 0      221930       1660760   \n",
       "104               34310                 0       37190       1087740   \n",
       "105               27690             14300       75365       1963090   \n",
       "106               12920                 0       27950       1104080   \n",
       "107               31190                 0       55100       1363780   \n",
       "108               29870                 0       29175       2190780   \n",
       "109               21910                 0       51300       1375610   \n",
       "110               31360                 0       68705       1165700   \n",
       "111               14940                 0       70305       1647180   \n",
       "112                2560                 0       29465       1128300   \n",
       "113               37350                 0       36935       1969560   \n",
       "114               15200              6500      162010       1096090   \n",
       "115               30020                 0       32630       1639030   \n",
       "116               10230              6500       23940       1844010   \n",
       "117               25170             27950       40475       2551350   \n",
       "118               22570              6500       46415       1353380   \n",
       "119               17650                 0       21590        976190   \n",
       "120               25920              6500       44745       1940000   \n",
       "121               34160                 0       39445       1328930   \n",
       "122               20250              6500       56750       2199480   \n",
       "123               12900                 0       93255       1049980   \n",
       "\n",
       "     water_sales  fruit_d_sales  avg_bill_value  weekend_avg_sales  \\\n",
       "100       578515         251390          944.54           32302.22   \n",
       "101        63525         146630          565.35           22019.72   \n",
       "102       185710         542510          802.68           50219.17   \n",
       "103       160895         332150          962.23           38967.78   \n",
       "104         9870         116290          598.89           28303.06   \n",
       "105       347690         368040          989.65           41864.72   \n",
       "106        98035         213960          553.48           30876.94   \n",
       "107       203245         339980          674.96           46140.28   \n",
       "108       105350         275610          692.84           48126.39   \n",
       "109        51870         482460          661.24           35130.83   \n",
       "110       519855         304880          824.98           55933.06   \n",
       "111       155050         242760          720.96           40559.72   \n",
       "112        32515         132510          720.08           31851.11   \n",
       "113       158585         414260          659.85           57197.50   \n",
       "114       921095         345300         1646.77           70305.56   \n",
       "115       265405         158970          669.87           35779.44   \n",
       "116        38990         293640          720.79           43035.00   \n",
       "117       203665         274340          809.55           54402.22   \n",
       "118       156240         575310          635.65           46783.06   \n",
       "119        28945         102210          742.72           18116.11   \n",
       "120        69090         345290          754.44           40565.28   \n",
       "121       179585         558160          886.41           60756.39   \n",
       "122       165410         596900          686.03           58602.50   \n",
       "123        16415         165420          618.32           23948.89   \n",
       "\n",
       "     customer_per_day  tot_orders  \n",
       "100                44        2761  \n",
       "101                37        2315  \n",
       "102                51        3181  \n",
       "103                40        2469  \n",
       "104                34        2089  \n",
       "105                44        2783  \n",
       "106                42        2609  \n",
       "107                47        2907  \n",
       "108                60        3754  \n",
       "109                48        2966  \n",
       "110                40        2496  \n",
       "111                47        2934  \n",
       "112                29        1837  \n",
       "113                63        3909  \n",
       "114                24        1533  \n",
       "115                50        3129  \n",
       "116                49        3053  \n",
       "117                60        3792  \n",
       "118                54        3353  \n",
       "119                24        1520  \n",
       "120                51        3180  \n",
       "121                38        2376  \n",
       "122                71        4400  \n",
       "123                34        2143  \n",
       "\n",
       "[24 rows x 43 columns]"
      ]
     },
     "execution_count": 47,
     "metadata": {},
     "output_type": "execute_result"
    }
   ],
   "source": [
    "store_table.tail(24)"
   ]
  },
  {
   "cell_type": "markdown",
   "id": "8bb7ea80",
   "metadata": {
    "execution": {
     "iopub.status.busy": "2023-04-27T07:24:32.862939Z",
     "iopub.status.idle": "2023-04-27T07:24:32.863564Z",
     "shell.execute_reply": "2023-04-27T07:24:32.863286Z",
     "shell.execute_reply.started": "2023-04-27T07:24:32.863234Z"
    },
    "papermill": {
     "duration": 0.023294,
     "end_time": "2023-04-27T09:25:33.452043",
     "exception": false,
     "start_time": "2023-04-27T09:25:33.428749",
     "status": "completed"
    },
    "tags": []
   },
   "source": [
    "########## View the relationships between variables; color code by species type\n",
    "di = {0: 'Low', 1.0: 'Moderate', 2.0:'High'} # dictionary\n",
    "\n",
    "plt.figure()\n",
    "sns.pairplot(store_table[:,fea_selected].replace({'shop_profile': di}), hue = \"shop_profile\", size=3, markers=[\"o\", \"s\", \"D\"])\n",
    "plt.show()"
   ]
  },
  {
   "cell_type": "markdown",
   "id": "eccff33b",
   "metadata": {
    "papermill": {
     "duration": 0.023061,
     "end_time": "2023-04-27T09:25:33.498672",
     "exception": false,
     "start_time": "2023-04-27T09:25:33.475611",
     "status": "completed"
    },
    "tags": []
   },
   "source": [
    "## Futher Feature Combining\n",
    "\n",
    "To simplify and combine some of the features"
   ]
  },
  {
   "cell_type": "markdown",
   "id": "31a86529",
   "metadata": {
    "papermill": {
     "duration": 0.02398,
     "end_time": "2023-04-27T09:25:33.546280",
     "exception": false,
     "start_time": "2023-04-27T09:25:33.522300",
     "status": "completed"
    },
    "tags": []
   },
   "source": [
    "Using Sales Growth to emphasize instead of separate monthly sale figures"
   ]
  },
  {
   "cell_type": "code",
   "execution_count": 48,
   "id": "315c0f3a",
   "metadata": {
    "execution": {
     "iopub.execute_input": "2023-04-29T16:29:44.025178Z",
     "iopub.status.busy": "2023-04-29T16:29:44.024821Z",
     "iopub.status.idle": "2023-04-29T16:29:44.039704Z",
     "shell.execute_reply": "2023-04-29T16:29:44.037660Z",
     "shell.execute_reply.started": "2023-04-29T16:29:44.025114Z"
    },
    "papermill": {
     "duration": 0.041371,
     "end_time": "2023-04-27T09:25:33.611201",
     "exception": false,
     "start_time": "2023-04-27T09:25:33.569830",
     "status": "completed"
    },
    "tags": []
   },
   "outputs": [],
   "source": [
    "store_table['oct_sales_ratio'] = (store_table['oct_sales'] / store_table['tot_sales'])\n",
    "store_table['nov1_sales_ratio'] = (store_table['nov_1_sales'] / store_table['tot_sales'])\n",
    "store_table['nov2_sales_ratio'] = (store_table['nov_2_sales'] / store_table['tot_sales'])\n",
    "store_table['dec_sales_ratio'] = (store_table['dec_sales'] / store_table['tot_sales'])\n",
    "\n",
    "store_table = store_table.drop(columns=['oct_sales','nov_1_sales','nov_2_sales','dec_sales'])"
   ]
  },
  {
   "cell_type": "code",
   "execution_count": 49,
   "id": "06bf62a1",
   "metadata": {
    "execution": {
     "iopub.execute_input": "2023-04-29T16:29:44.042509Z",
     "iopub.status.busy": "2023-04-29T16:29:44.041919Z",
     "iopub.status.idle": "2023-04-29T16:29:44.054106Z",
     "shell.execute_reply": "2023-04-29T16:29:44.052741Z",
     "shell.execute_reply.started": "2023-04-29T16:29:44.042445Z"
    },
    "papermill": {
     "duration": 0.034865,
     "end_time": "2023-04-27T09:25:33.671010",
     "exception": false,
     "start_time": "2023-04-27T09:25:33.636145",
     "status": "completed"
    },
    "tags": []
   },
   "outputs": [],
   "source": [
    "store_table['footprint_perday'] = store_table['customer_per_day'] / store_table['shop_area_sq_ft']"
   ]
  },
  {
   "cell_type": "code",
   "execution_count": 77,
   "id": "1120b7ad",
   "metadata": {
    "execution": {
     "iopub.execute_input": "2023-04-29T16:57:21.138055Z",
     "iopub.status.busy": "2023-04-29T16:57:21.137636Z",
     "iopub.status.idle": "2023-04-29T16:57:21.146970Z",
     "shell.execute_reply": "2023-04-29T16:57:21.145224Z",
     "shell.execute_reply.started": "2023-04-29T16:57:21.138022Z"
    },
    "papermill": {
     "duration": 0.023461,
     "end_time": "2023-04-27T09:25:33.774801",
     "exception": false,
     "start_time": "2023-04-27T09:25:33.751340",
     "status": "completed"
    },
    "tags": []
   },
   "outputs": [],
   "source": [
    "store_table['orders_per_customer'] = (store_table['tot_orders'] / store_table['tot_customers'])"
   ]
  },
  {
   "cell_type": "code",
   "execution_count": null,
   "id": "f1076595",
   "metadata": {},
   "outputs": [],
   "source": []
  },
  {
   "cell_type": "markdown",
   "id": "1b0f53b9",
   "metadata": {},
   "source": [
    "# Descriptive Analysis and Visualizations"
   ]
  },
  {
   "cell_type": "code",
   "execution_count": 51,
   "id": "bd40702f",
   "metadata": {
    "execution": {
     "iopub.execute_input": "2023-04-29T16:29:44.069166Z",
     "iopub.status.busy": "2023-04-29T16:29:44.068246Z",
     "iopub.status.idle": "2023-04-29T16:29:44.346400Z",
     "shell.execute_reply": "2023-04-29T16:29:44.344705Z",
     "shell.execute_reply.started": "2023-04-29T16:29:44.069095Z"
    },
    "papermill": {
     "duration": 0.023406,
     "end_time": "2023-04-27T09:25:33.821925",
     "exception": false,
     "start_time": "2023-04-27T09:25:33.798519",
     "status": "completed"
    },
    "tags": []
   },
   "outputs": [
    {
     "data": {
      "text/plain": [
       "Text(0.5, 1.0, 'Average Sales from a shop')"
      ]
     },
     "execution_count": 51,
     "metadata": {},
     "output_type": "execute_result"
    },
    {
     "data": {
      "image/png": "[encoded data removed]",
      "text/plain": [
       "<Figure size 640x480 with 1 Axes>"
      ]
     },
     "metadata": {},
     "output_type": "display_data"
    }
   ],
   "source": [
    "df1 = store_table.groupby(['shop_profile']).tot_sales.agg(['mean'])\n",
    "df1 = df1.reset_index()\n",
    "df1['Sales_tot'] = df1['mean']\n",
    "df1.drop('mean',axis=1,inplace=True)\n",
    "\n",
    "## Visualizing the bar chart\n",
    "sns.barplot(x= 'shop_profile' , y = 'Sales_tot' , data = df1)\n",
    "plt.title('Average Sales from a shop')"
   ]
  },
  {
   "cell_type": "code",
   "execution_count": 52,
   "id": "2770eab1",
   "metadata": {
    "execution": {
     "iopub.execute_input": "2023-04-29T16:29:44.349164Z",
     "iopub.status.busy": "2023-04-29T16:29:44.348497Z",
     "iopub.status.idle": "2023-04-29T16:29:44.610935Z",
     "shell.execute_reply": "2023-04-29T16:29:44.609518Z",
     "shell.execute_reply.started": "2023-04-29T16:29:44.349105Z"
    }
   },
   "outputs": [
    {
     "data": {
      "text/plain": [
       "Text(0.5, 1.0, 'Average Shop Floor Area in Square Feet')"
      ]
     },
     "execution_count": 52,
     "metadata": {},
     "output_type": "execute_result"
    },
    {
     "data": {
      "image/png": "[encoded data removed]",
      "text/plain": [
       "<Figure size 640x480 with 1 Axes>"
      ]
     },
     "metadata": {},
     "output_type": "display_data"
    }
   ],
   "source": [
    "df2 = store_table.groupby(['shop_profile']).shop_area_sq_ft.agg(['mean'])\n",
    "df2 = df2.reset_index()\n",
    "df2['Avg_Shop_Area'] = df2['mean']\n",
    "df2.drop('mean',axis=1,inplace=True)\n",
    "\n",
    "## Visualizing the bar chart\n",
    "sns.barplot(x= 'shop_profile' , y = 'Avg_Shop_Area' , data = df2)\n",
    "plt.title('Average Shop Floor Area in Square Feet')"
   ]
  },
  {
   "cell_type": "code",
   "execution_count": 53,
   "id": "6ba5dc04",
   "metadata": {
    "execution": {
     "iopub.execute_input": "2023-04-29T16:29:44.612954Z",
     "iopub.status.busy": "2023-04-29T16:29:44.612591Z",
     "iopub.status.idle": "2023-04-29T16:29:44.854007Z",
     "shell.execute_reply": "2023-04-29T16:29:44.852449Z",
     "shell.execute_reply.started": "2023-04-29T16:29:44.612921Z"
    }
   },
   "outputs": [
    {
     "data": {
      "text/plain": [
       "Text(0.5, 1.0, 'Total number of Frequent Customers (>= 12 visits in 2 months)')"
      ]
     },
     "execution_count": 53,
     "metadata": {},
     "output_type": "execute_result"
    },
    {
     "data": {
      "image/png": "[encoded data removed]",
      "text/plain": [
       "<Figure size 640x480 with 1 Axes>"
      ]
     },
     "metadata": {},
     "output_type": "display_data"
    }
   ],
   "source": [
    "df3 = store_table.groupby(['shop_profile']).frequent_customers.agg(['mean'])\n",
    "df3 = df3.reset_index()\n",
    "df3['Frequent_Customers'] = df3['mean']\n",
    "df3.drop('mean',axis=1,inplace=True)\n",
    "\n",
    "## Visualizing the bar chart\n",
    "sns.barplot(x= 'shop_profile' , y = 'Frequent_Customers' , data = df3)\n",
    "plt.title('Total number of Frequent Customers (>= 12 visits in 2 months)')"
   ]
  },
  {
   "cell_type": "code",
   "execution_count": 54,
   "id": "71c70c9e",
   "metadata": {
    "execution": {
     "iopub.execute_input": "2023-04-29T16:29:44.857347Z",
     "iopub.status.busy": "2023-04-29T16:29:44.855873Z",
     "iopub.status.idle": "2023-04-29T16:29:45.117747Z",
     "shell.execute_reply": "2023-04-29T16:29:45.116399Z",
     "shell.execute_reply.started": "2023-04-29T16:29:44.857283Z"
    }
   },
   "outputs": [
    {
     "data": {
      "text/plain": [
       "Text(0.5, 1.0, 'Average Bill Value of an Invoice')"
      ]
     },
     "execution_count": 54,
     "metadata": {},
     "output_type": "execute_result"
    },
    {
     "data": {
      "image/png": "[encoded data removed]",
      "text/plain": [
       "<Figure size 640x480 with 1 Axes>"
      ]
     },
     "metadata": {},
     "output_type": "display_data"
    }
   ],
   "source": [
    "df4 = store_table.groupby(['shop_profile']).avg_bill_value.agg(['mean'])\n",
    "df4 = df4.reset_index()\n",
    "df4['Average_Bill_Value'] = df4['mean']\n",
    "df4.drop('mean',axis=1,inplace=True)\n",
    "\n",
    "## Visualizing the bar chart\n",
    "sns.barplot(x= 'shop_profile' , y = 'Average_Bill_Value' , data = df4)\n",
    "plt.title('Average Bill Value of an Invoice')"
   ]
  },
  {
   "cell_type": "code",
   "execution_count": 55,
   "id": "65e7c430",
   "metadata": {
    "execution": {
     "iopub.execute_input": "2023-04-29T16:29:45.119717Z",
     "iopub.status.busy": "2023-04-29T16:29:45.119387Z",
     "iopub.status.idle": "2023-04-29T16:29:45.352910Z",
     "shell.execute_reply": "2023-04-29T16:29:45.351643Z",
     "shell.execute_reply.started": "2023-04-29T16:29:45.119682Z"
    }
   },
   "outputs": [
    {
     "data": {
      "text/plain": [
       "Text(0.5, 1.0, 'Average Customers visiting a shop per Day')"
      ]
     },
     "execution_count": 55,
     "metadata": {},
     "output_type": "execute_result"
    },
    {
     "data": {
      "image/png": "[encoded data removed]",
      "text/plain": [
       "<Figure size 640x480 with 1 Axes>"
      ]
     },
     "metadata": {},
     "output_type": "display_data"
    }
   ],
   "source": [
    "df5 = store_table.groupby(['shop_profile']).customer_per_day.agg(['mean'])\n",
    "df5 = df5.reset_index()\n",
    "df5['Customer_Per_Day'] = df5['mean']\n",
    "df5.drop('mean',axis=1,inplace=True)\n",
    "\n",
    "## Visualizing the bar chart\n",
    "sns.barplot(x= 'shop_profile' , y = 'Customer_Per_Day' , data = df5)\n",
    "plt.title('Average Customers visiting a shop per Day')"
   ]
  },
  {
   "cell_type": "code",
   "execution_count": 56,
   "id": "810cc215",
   "metadata": {
    "execution": {
     "iopub.execute_input": "2023-04-29T16:29:45.354863Z",
     "iopub.status.busy": "2023-04-29T16:29:45.354522Z",
     "iopub.status.idle": "2023-04-29T16:29:45.702548Z",
     "shell.execute_reply": "2023-04-29T16:29:45.701286Z",
     "shell.execute_reply.started": "2023-04-29T16:29:45.354826Z"
    }
   },
   "outputs": [
    {
     "name": "stderr",
     "output_type": "stream",
     "text": [
      "/opt/conda/lib/python3.7/site-packages/ipykernel_launcher.py:1: FutureWarning: Indexing with multiple keys (implicitly converted to a tuple of keys) will be deprecated, use a list instead.\n",
      "  \"\"\"Entry point for launching an IPython kernel.\n"
     ]
    },
    {
     "data": {
      "text/plain": [
       "Text(0.5, 1.0, 'Total Sales from each Category of Drinks')"
      ]
     },
     "execution_count": 56,
     "metadata": {},
     "output_type": "execute_result"
    },
    {
     "data": {
      "image/png": "[encoded data removed]",
      "text/plain": [
       "<Figure size 600x600 with 1 Axes>"
      ]
     },
     "metadata": {},
     "output_type": "display_data"
    }
   ],
   "source": [
    "df6 = store_table.groupby(['shop_profile'])['milk_sales','water_sales','fruit_d_sales','soft_d_sales'].sum()\n",
    "df6 = df6.reset_index()\n",
    "\n",
    "(df6.plot(\n",
    "    x ='shop_profile',\n",
    "    y=['milk_sales','water_sales','fruit_d_sales','soft_d_sales'],\n",
    "    kind='bar',\n",
    "    figsize=(6,6)\n",
    "    )\n",
    ")\n",
    "plt.title('Total Sales from each Category of Drinks')"
   ]
  },
  {
   "cell_type": "code",
   "execution_count": 76,
   "id": "d1baa092",
   "metadata": {
    "execution": {
     "iopub.execute_input": "2023-04-29T16:51:31.034998Z",
     "iopub.status.busy": "2023-04-29T16:51:31.034532Z",
     "iopub.status.idle": "2023-04-29T16:51:31.451363Z",
     "shell.execute_reply": "2023-04-29T16:51:31.449678Z",
     "shell.execute_reply.started": "2023-04-29T16:51:31.034957Z"
    }
   },
   "outputs": [
    {
     "name": "stderr",
     "output_type": "stream",
     "text": [
      "/opt/conda/lib/python3.7/site-packages/ipykernel_launcher.py:1: FutureWarning: Indexing with multiple keys (implicitly converted to a tuple of keys) will be deprecated, use a list instead.\n",
      "  \"\"\"Entry point for launching an IPython kernel.\n"
     ]
    },
    {
     "data": {
      "text/plain": [
       "Text(0.5, 1.0, 'Avaerage Sales from each Soft Drinks and Bottled Water in each store')"
      ]
     },
     "execution_count": 76,
     "metadata": {},
     "output_type": "execute_result"
    },
    {
     "data": {
      "image/png": "[encoded data removed]",
      "text/plain": [
       "<Figure size 1000x1000 with 1 Axes>"
      ]
     },
     "metadata": {},
     "output_type": "display_data"
    }
   ],
   "source": [
    "df7 = store_table.groupby(['shop_profile'])['ORANGE BARLEY','TONIC PET','CREAM SODA','GINGER BEER','SODA'\n",
    "                                            ,'SODA PET','NECTO','water_sales'].mean()\n",
    "df7 = df7.reset_index()\n",
    "df7.rename(columns={'water_sales':'BOTTLED DRINKING WATER'}, inplace=True)\n",
    "\n",
    "(df7.plot(\n",
    "    x ='shop_profile',\n",
    "    y = ['ORANGE BARLEY','TONIC PET','CREAM SODA','GINGER BEER','SODA'\n",
    "                                            ,'SODA PET','NECTO','BOTTLED DRINKING WATER'],\n",
    "    kind ='bar',\n",
    "    figsize = (10,10)\n",
    "    )\n",
    ")\n",
    "plt.title('Avaerage Sales from each Soft Drinks and Bottled Water in each store')"
   ]
  },
  {
   "cell_type": "code",
   "execution_count": 58,
   "id": "d5654dbf",
   "metadata": {
    "execution": {
     "iopub.execute_input": "2023-04-29T16:29:46.083744Z",
     "iopub.status.busy": "2023-04-29T16:29:46.083406Z",
     "iopub.status.idle": "2023-04-29T16:29:46.442217Z",
     "shell.execute_reply": "2023-04-29T16:29:46.440503Z",
     "shell.execute_reply.started": "2023-04-29T16:29:46.083708Z"
    }
   },
   "outputs": [
    {
     "name": "stderr",
     "output_type": "stream",
     "text": [
      "/opt/conda/lib/python3.7/site-packages/ipykernel_launcher.py:1: FutureWarning: Indexing with multiple keys (implicitly converted to a tuple of keys) will be deprecated, use a list instead.\n",
      "  \"\"\"Entry point for launching an IPython kernel.\n"
     ]
    },
    {
     "data": {
      "text/plain": [
       "<matplotlib.legend.Legend at 0x719e7aaf8210>"
      ]
     },
     "execution_count": 58,
     "metadata": {},
     "output_type": "execute_result"
    },
    {
     "data": {
      "image/png": "[encoded data removed]",
      "text/plain": [
       "<Figure size 640x480 with 1 Axes>"
      ]
     },
     "metadata": {},
     "output_type": "display_data"
    }
   ],
   "source": [
    "df8 = store_table.groupby(['shop_profile'])['oct_customers','nov_1_customers','nov_2_customers',\n",
    "                                           'dec_customers'].mean()\n",
    "df8 = df8.reset_index()\n",
    "df8 = df8.T\n",
    "df8 = df8.rename(columns = {df8.columns[0]:'High',df8.columns[1]:'Low',df8.columns[2]:'Moderate'})\n",
    "df8 = df8[1:]\n",
    "df8 = df8.reset_index()\n",
    "df8\n",
    "\n",
    "sns.lineplot(x='index', y='High', data=df8, label=\"High Profile Stores\")\n",
    "sns.lineplot(x='index', y='Low', data=df8, label = \"Moderate Profile Stores\")\n",
    "sns.lineplot(x='index', y='Moderate', data=df8, label = \"Low Profile Stores\")\n",
    "plt.title('Half Month Variation of Total Customers visiting to a shop')\n",
    "plt.ylabel('Total Customers Visited')\n",
    "plt.legend(loc='upper left')"
   ]
  },
  {
   "cell_type": "code",
   "execution_count": 62,
   "id": "81c8ae10",
   "metadata": {
    "execution": {
     "iopub.execute_input": "2023-04-29T16:31:29.088690Z",
     "iopub.status.busy": "2023-04-29T16:31:29.088266Z",
     "iopub.status.idle": "2023-04-29T16:31:29.501351Z",
     "shell.execute_reply": "2023-04-29T16:31:29.499451Z",
     "shell.execute_reply.started": "2023-04-29T16:31:29.088653Z"
    }
   },
   "outputs": [
    {
     "name": "stderr",
     "output_type": "stream",
     "text": [
      "/opt/conda/lib/python3.7/site-packages/ipykernel_launcher.py:1: FutureWarning: Indexing with multiple keys (implicitly converted to a tuple of keys) will be deprecated, use a list instead.\n",
      "  \"\"\"Entry point for launching an IPython kernel.\n"
     ]
    },
    {
     "data": {
      "text/plain": [
       "Text(0.5, 1.0, 'No of customers buying bottles categorized by bottle volume')"
      ]
     },
     "execution_count": 62,
     "metadata": {},
     "output_type": "execute_result"
    },
    {
     "data": {
      "image/png": "[encoded data removed]",
      "text/plain": [
       "<Figure size 1000x1000 with 1 Axes>"
      ]
     },
     "metadata": {},
     "output_type": "display_data"
    }
   ],
   "source": [
    "df9 = store_table.groupby(['shop_profile'])['customers_180_bottles','customers_200_bottles','customers_400_bottles',\n",
    "                                           'customers_500_bottles','customers_1000_bottles','customers_1500_bottles'].sum()\n",
    "df9 = df9.reset_index()\n",
    "(df9.plot(\n",
    "    x ='shop_profile',\n",
    "    y = ['customers_180_bottles','customers_200_bottles','customers_400_bottles',\n",
    "        'customers_500_bottles','customers_1000_bottles','customers_1500_bottles'],\n",
    "    kind ='bar',\n",
    "    figsize = (10,10)\n",
    "    )\n",
    ")\n",
    "plt.title('No of customers buying bottles categorized by bottle volume')"
   ]
  },
  {
   "cell_type": "code",
   "execution_count": 68,
   "id": "405c3cff",
   "metadata": {
    "execution": {
     "iopub.execute_input": "2023-04-29T16:35:49.083265Z",
     "iopub.status.busy": "2023-04-29T16:35:49.082738Z",
     "iopub.status.idle": "2023-04-29T16:35:49.331189Z",
     "shell.execute_reply": "2023-04-29T16:35:49.329948Z",
     "shell.execute_reply.started": "2023-04-29T16:35:49.083220Z"
    }
   },
   "outputs": [
    {
     "data": {
      "text/plain": [
       "Text(0.5, 1.0, 'Total number of Bulk Item customers (more than 25 items per bill) visiting a shop')"
      ]
     },
     "execution_count": 68,
     "metadata": {},
     "output_type": "execute_result"
    },
    {
     "data": {
      "image/png": "[encoded data removed]",
      "text/plain": [
       "<Figure size 640x480 with 1 Axes>"
      ]
     },
     "metadata": {},
     "output_type": "display_data"
    }
   ],
   "source": [
    "df11 = store_table.groupby(['shop_profile']).bulk_item_customers.agg(['sum'])\n",
    "df11 = df11.reset_index()\n",
    "df11['bulk_item_customers'] = df11['sum']\n",
    "df11.drop('sum',axis=1,inplace=True)\n",
    "\n",
    "## Visualizing the bar chart\n",
    "sns.barplot(x= 'shop_profile' , y = 'bulk_item_customers' , data = df11)\n",
    "plt.title('Total number of Bulk Item customers (more than 25 items per bill) visiting a shop')"
   ]
  },
  {
   "cell_type": "code",
   "execution_count": 69,
   "id": "15da51d6",
   "metadata": {
    "execution": {
     "iopub.execute_input": "2023-04-29T16:36:40.944060Z",
     "iopub.status.busy": "2023-04-29T16:36:40.943599Z",
     "iopub.status.idle": "2023-04-29T16:36:41.179835Z",
     "shell.execute_reply": "2023-04-29T16:36:41.178644Z",
     "shell.execute_reply.started": "2023-04-29T16:36:40.944019Z"
    }
   },
   "outputs": [
    {
     "data": {
      "text/plain": [
       "Text(0.5, 1.0, 'Average Weekend Sales on a day from a shop')"
      ]
     },
     "execution_count": 69,
     "metadata": {},
     "output_type": "execute_result"
    },
    {
     "data": {
      "image/png": "[encoded data removed]",
      "text/plain": [
       "<Figure size 640x480 with 1 Axes>"
      ]
     },
     "metadata": {},
     "output_type": "display_data"
    }
   ],
   "source": [
    "df10 = store_table.groupby(['shop_profile']).weekend_avg_sales.agg(['mean'])\n",
    "df10 = df10.reset_index()\n",
    "df10['Avg_Weekend_Sales'] = df10['mean']\n",
    "df10.drop('mean',axis=1,inplace=True)\n",
    "\n",
    "## Visualizing the bar chart\n",
    "sns.barplot(x= 'shop_profile' , y = 'Avg_Weekend_Sales' , data = df10)\n",
    "plt.title('Average Weekend Sales on a day from a shop')"
   ]
  },
  {
   "cell_type": "code",
   "execution_count": 78,
   "id": "4ff9c13c",
   "metadata": {
    "execution": {
     "iopub.execute_input": "2023-04-29T16:58:45.483971Z",
     "iopub.status.busy": "2023-04-29T16:58:45.483477Z",
     "iopub.status.idle": "2023-04-29T16:58:45.673172Z",
     "shell.execute_reply": "2023-04-29T16:58:45.671427Z",
     "shell.execute_reply.started": "2023-04-29T16:58:45.483930Z"
    }
   },
   "outputs": [
    {
     "data": {
      "text/plain": [
       "Text(0.5, 1.0, 'Average number of Orders taken by a customer in a shop')"
      ]
     },
     "execution_count": 78,
     "metadata": {},
     "output_type": "execute_result"
    },
    {
     "data": {
      "image/png": "[encoded data removed]",
      "text/plain": [
       "<Figure size 640x480 with 1 Axes>"
      ]
     },
     "metadata": {},
     "output_type": "display_data"
    }
   ],
   "source": [
    "df12 = store_table.groupby(['shop_profile']).orders_per_customer.agg(['mean'])\n",
    "df12 = df12.reset_index()\n",
    "df12['orders_per_customer'] = df12['mean']\n",
    "df12.drop('mean',axis=1,inplace=True)\n",
    "\n",
    "## Visualizing the bar chart\n",
    "sns.barplot(x= 'shop_profile' , y = 'orders_per_customer' , data = df12)\n",
    "plt.title('Average number of Orders taken by a customer in a shop')"
   ]
  },
  {
   "cell_type": "code",
   "execution_count": null,
   "id": "553cd7cf",
   "metadata": {},
   "outputs": [],
   "source": []
  },
  {
   "cell_type": "code",
   "execution_count": null,
   "id": "ced55011",
   "metadata": {
    "execution": {
     "iopub.status.busy": "2023-04-29T16:29:46.639890Z",
     "iopub.status.idle": "2023-04-29T16:29:46.640581Z",
     "shell.execute_reply": "2023-04-29T16:29:46.640297Z",
     "shell.execute_reply.started": "2023-04-29T16:29:46.640263Z"
    },
    "papermill": {
     "duration": 0.023383,
     "end_time": "2023-04-27T09:25:33.868797",
     "exception": false,
     "start_time": "2023-04-27T09:25:33.845414",
     "status": "completed"
    },
    "tags": []
   },
   "outputs": [],
   "source": [
    "store_table"
   ]
  }
 ],
 "metadata": {
  "kernelspec": {
   "display_name": "Python 3 (ipykernel)",
   "language": "python",
   "name": "python3"
  },
  "language_info": {
   "codemirror_mode": {
    "name": "ipython",
    "version": 3
   },
   "file_extension": ".py",
   "mimetype": "text/x-python",
   "name": "python",
   "nbconvert_exporter": "python",
   "pygments_lexer": "ipython3",
   "version": "3.9.13"
  },
  "papermill": {
   "default_parameters": {},
   "duration": 37.902079,
   "end_time": "2023-04-27T09:25:37.212265",
   "environment_variables": {},
   "exception": null,
   "input_path": "__notebook__.ipynb",
   "output_path": "__notebook__.ipynb",
   "parameters": {},
   "start_time": "2023-04-27T09:24:59.310186",
   "version": "2.4.0"
  }
 },
 "nbformat": 4,
 "nbformat_minor": 5
}
